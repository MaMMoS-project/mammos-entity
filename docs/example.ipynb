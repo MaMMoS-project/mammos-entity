{
 "cells": [
  {
   "cell_type": "markdown",
   "id": "ce5c207d-8878-4869-a8db-af2d23ee44dc",
   "metadata": {},
   "source": [
    "# MaMMoS Entities"
   ]
  },
  {
   "cell_type": "markdown",
   "id": "ba508907-d549-46c7-bc34-ae4e36e0bd34",
   "metadata": {},
   "source": [
    "## Some definitions\n",
    "\n",
    "- a **quantity** is an object that carries a value and units.\n",
    "\n",
    "- an **entity** is a quantity, which in addition links the entity to its definition in the ontology.\n",
    "\n",
    "This package provides entities. \n",
    "\n",
    "Some examples and use cases follow."
   ]
  },
  {
   "cell_type": "markdown",
   "id": "de88e0d0-f4b5-44ef-9cc6-a8a0b0a270f9",
   "metadata": {},
   "source": [
    "## Recommended `import`"
   ]
  },
  {
   "cell_type": "code",
   "execution_count": 1,
   "id": "e51d915f-2c57-4336-93c1-5099db9e29cd",
   "metadata": {},
   "outputs": [],
   "source": [
    "import mammos_entity as me  # MaMMoS Entities. Or later Magnetic Entities"
   ]
  },
  {
   "cell_type": "markdown",
   "id": "ee759950-d1f2-4c26-b6ff-5d94c48733af",
   "metadata": {},
   "source": [
    "For entities that are important in MaMMoS, there are (or there will be) short cut definitios. For example for the saturation magnetisation or the exchange coupling we have:\n"
   ]
  },
  {
   "cell_type": "code",
   "execution_count": 2,
   "id": "64fa0a25-5b84-4a74-bc0c-a3c3583892e8",
   "metadata": {},
   "outputs": [],
   "source": [
    "Ms = me.Ms(800e3)  # defines Ms = 8e5 A/m  (default units are SI, i.e. A/m here)"
   ]
  },
  {
   "cell_type": "code",
   "execution_count": 3,
   "id": "b606c6ef-ed6f-4c44-a08b-cd786c9a8fe7",
   "metadata": {},
   "outputs": [
    {
     "data": {
      "text/latex": [
       "SpontaneousMagnetization(value=800000.0, unit=A / m)"
      ],
      "text/plain": [
       "SpontaneousMagnetization(value=800000.0, unit=A / m)"
      ]
     },
     "execution_count": 3,
     "metadata": {},
     "output_type": "execute_result"
    }
   ],
   "source": [
    "Ms"
   ]
  },
  {
   "cell_type": "markdown",
   "id": "eccff32a-a5c0-4c27-b4ee-80b2ac8b07b1",
   "metadata": {},
   "source": [
    "## Entities behaves like Quantity"
   ]
  },
  {
   "cell_type": "markdown",
   "id": "c82913af-4541-4883-8a6a-f1fefeefb42a",
   "metadata": {},
   "source": [
    "Each entities has all the attributes and methods that are available for Quantities (in AstroPy or MaMMosUnits). See [unit examples](https://github.com/MaMMoS-project/units/blob/main/docs/example.ipynb) for details.\n",
    "\n",
    "Very important attributes:"
   ]
  },
  {
   "cell_type": "code",
   "execution_count": 4,
   "id": "36fb7fda-524a-417d-bff4-00fd82249956",
   "metadata": {},
   "outputs": [
    {
     "data": {
      "text/plain": [
       "np.float64(800000.0)"
      ]
     },
     "execution_count": 4,
     "metadata": {},
     "output_type": "execute_result"
    }
   ],
   "source": [
    "Ms.value\n"
   ]
  },
  {
   "cell_type": "code",
   "execution_count": 5,
   "id": "401b885a-5bd8-48c2-8a5b-abfff441ecdf",
   "metadata": {},
   "outputs": [
    {
     "data": {
      "text/latex": [
       "$\\mathrm{\\frac{A}{m}}$"
      ],
      "text/plain": [
       "Unit(\"A / m\")"
      ]
     },
     "execution_count": 5,
     "metadata": {},
     "output_type": "execute_result"
    }
   ],
   "source": [
    "Ms.unit"
   ]
  },
  {
   "cell_type": "markdown",
   "id": "8d75a9d4-9e07-4f7c-950e-844a3da6bccb",
   "metadata": {},
   "source": [
    "## Access to Ontology\n",
    "\n",
    "Each entity object knows about its role in the Ontology:"
   ]
  },
  {
   "cell_type": "code",
   "execution_count": 6,
   "id": "579387e3-2edc-498e-973f-7501e96c9e21",
   "metadata": {},
   "outputs": [
    {
     "data": {
      "text/plain": [
       "'SpontaneousMagnetization'"
      ]
     },
     "execution_count": 6,
     "metadata": {},
     "output_type": "execute_result"
    }
   ],
   "source": [
    "Ms.ontology_label"
   ]
  },
  {
   "cell_type": "code",
   "execution_count": 7,
   "id": "64606946-ea90-49bb-9007-5d563f9833eb",
   "metadata": {},
   "outputs": [
    {
     "data": {
      "text/plain": [
       "magnetic_material_mammos.SpontaneousMagnetization"
      ]
     },
     "execution_count": 7,
     "metadata": {},
     "output_type": "execute_result"
    }
   ],
   "source": [
    "Ms.ontology"
   ]
  },
  {
   "cell_type": "code",
   "execution_count": 8,
   "id": "f1a7e518-a726-4eb0-b9ae-8220ba942dc2",
   "metadata": {},
   "outputs": [],
   "source": [
    "Ms_ontology = Ms.ontology  # retrieves a ThingClass from owlready2"
   ]
  },
  {
   "cell_type": "code",
   "execution_count": 9,
   "id": "827c6af2-3435-4905-a791-755b9fa6e9c1",
   "metadata": {},
   "outputs": [
    {
     "data": {
      "text/plain": [
       "{'altLabel': [locstr('Ms', '')],\n",
       " 'prefLabel': [locstr('SpontaneousMagnetization', 'en')],\n",
       " 'elucidation': [locstr('The spontaneous magnetization, Ms, of a ferromagnet is the result\\nof alignment of the magnetic moments of individual atoms. Ms exists\\nwithin a domain of a ferromagnet.', 'en')],\n",
       " 'wikipediaReference': [locstr('https://en.wikipedia.org/wiki/Spontaneous_magnetization', '')],\n",
       " 'IECEntry': [locstr('https://www.electropedia.org/iev/iev.nsf/display?openform&ievref=221-02-41', '')]}"
      ]
     },
     "execution_count": 9,
     "metadata": {},
     "output_type": "execute_result"
    }
   ],
   "source": [
    "Ms_ontology.get_annotations()  # behaves like a normal Thing"
   ]
  },
  {
   "cell_type": "markdown",
   "id": "bf7bc7cd-9d74-4690-9349-a2baaf2e0c31",
   "metadata": {},
   "source": [
    "## Initialising entities conveniently"
   ]
  },
  {
   "cell_type": "code",
   "execution_count": 10,
   "id": "deb40ca2-713a-4002-9f9b-660414c8ca34",
   "metadata": {},
   "outputs": [
    {
     "name": "stdout",
     "output_type": "stream",
     "text": [
      "SpontaneousMagnetization(value=800000.0, unit=A / m)\n",
      "SpontaneousMagnetization(value=800000.0, unit=A / m)\n"
     ]
    }
   ],
   "source": [
    "# if no options are provided, SI units are chosen:\n",
    "m1 = me.Ms(8e5)\n",
    "# if units are provided as a string (and understood), these can be used:\n",
    "m2 = me.Ms(8e5, \"A/m\")  # no change as A/m are the default SI units\n",
    "print(m1)\n",
    "print(m2)"
   ]
  },
  {
   "cell_type": "code",
   "execution_count": 11,
   "id": "d758ffd1-5ddf-49ff-8891-8bf3358a537b",
   "metadata": {},
   "outputs": [
    {
     "ename": "TypeError",
     "evalue": "The units does not match the units of Spontaneous Magnetization.",
     "output_type": "error",
     "traceback": [
      "\u001b[31m---------------------------------------------------------------------------\u001b[39m",
      "\u001b[31mTypeError\u001b[39m                                 Traceback (most recent call last)",
      "\u001b[36mCell\u001b[39m\u001b[36m \u001b[39m\u001b[32mIn[11]\u001b[39m\u001b[32m, line 3\u001b[39m\n\u001b[32m      1\u001b[39m \u001b[38;5;66;03m# if a unit is chosen, that does not make sense, an error is raised\u001b[39;00m\n\u001b[32m      2\u001b[39m \u001b[38;5;66;03m# (if the unit should be understood, please get in touch with developers)\u001b[39;00m\n\u001b[32m----> \u001b[39m\u001b[32m3\u001b[39m m4 = \u001b[43mme\u001b[49m\u001b[43m.\u001b[49m\u001b[43mMs\u001b[49m\u001b[43m(\u001b[49m\u001b[32;43m10\u001b[39;49m\u001b[43m,\u001b[49m\u001b[43m \u001b[49m\u001b[33;43m\"\u001b[39;49m\u001b[33;43mm/s\u001b[39;49m\u001b[33;43m\"\u001b[39;49m\u001b[43m)\u001b[49m\n",
      "\u001b[36mFile \u001b[39m\u001b[32m~/Projects/mammos-entity/src/mammos_entity/entities.py:17\u001b[39m, in \u001b[36mMs.__new__\u001b[39m\u001b[34m(cls, value, unit, **kwargs)\u001b[39m\n\u001b[32m     15\u001b[39m unit = u.Unit(unit)\n\u001b[32m     16\u001b[39m \u001b[38;5;28;01mif\u001b[39;00m \u001b[38;5;129;01mnot\u001b[39;00m unit.is_equivalent(u.A / u.m):\n\u001b[32m---> \u001b[39m\u001b[32m17\u001b[39m     \u001b[38;5;28;01mraise\u001b[39;00m \u001b[38;5;167;01mTypeError\u001b[39;00m(\n\u001b[32m     18\u001b[39m         \u001b[33m\"\u001b[39m\u001b[33mThe units does not match the units of Spontaneous Magnetization.\u001b[39m\u001b[33m\"\u001b[39m\n\u001b[32m     19\u001b[39m     )\n\u001b[32m     20\u001b[39m \u001b[38;5;28;01mreturn\u001b[39;00m \u001b[38;5;28msuper\u001b[39m().\u001b[34m__new__\u001b[39m(\u001b[38;5;28mcls\u001b[39m, value, unit, **kwargs)\n",
      "\u001b[31mTypeError\u001b[39m: The units does not match the units of Spontaneous Magnetization."
     ]
    }
   ],
   "source": [
    "# if a unit is chosen, that does not make sense, an error is raised\n",
    "# (if the unit should be understood, please get in touch with developers)\n",
    "m4 = me.Ms(10, \"m/s\")\n"
   ]
  },
  {
   "cell_type": "code",
   "execution_count": 12,
   "id": "5f05b491-a079-42a6-a6be-f3bb24121d4f",
   "metadata": {},
   "outputs": [
    {
     "ename": "TypeError",
     "evalue": "The units does not match the units of Spontaneous Magnetization.",
     "output_type": "error",
     "traceback": [
      "\u001b[31m---------------------------------------------------------------------------\u001b[39m",
      "\u001b[31mTypeError\u001b[39m                                 Traceback (most recent call last)",
      "\u001b[36mCell\u001b[39m\u001b[36m \u001b[39m\u001b[32mIn[12]\u001b[39m\u001b[32m, line 1\u001b[39m\n\u001b[32m----> \u001b[39m\u001b[32m1\u001b[39m m4 = \u001b[43mme\u001b[49m\u001b[43m.\u001b[49m\u001b[43mMs\u001b[49m\u001b[43m(\u001b[49m\u001b[32;43m1.2\u001b[39;49m\u001b[43m,\u001b[49m\u001b[43m \u001b[49m\u001b[33;43m\"\u001b[39;49m\u001b[33;43mT\u001b[39;49m\u001b[33;43m\"\u001b[39;49m\u001b[43m)\u001b[49m\n",
      "\u001b[36mFile \u001b[39m\u001b[32m~/Projects/mammos-entity/src/mammos_entity/entities.py:17\u001b[39m, in \u001b[36mMs.__new__\u001b[39m\u001b[34m(cls, value, unit, **kwargs)\u001b[39m\n\u001b[32m     15\u001b[39m unit = u.Unit(unit)\n\u001b[32m     16\u001b[39m \u001b[38;5;28;01mif\u001b[39;00m \u001b[38;5;129;01mnot\u001b[39;00m unit.is_equivalent(u.A / u.m):\n\u001b[32m---> \u001b[39m\u001b[32m17\u001b[39m     \u001b[38;5;28;01mraise\u001b[39;00m \u001b[38;5;167;01mTypeError\u001b[39;00m(\n\u001b[32m     18\u001b[39m         \u001b[33m\"\u001b[39m\u001b[33mThe units does not match the units of Spontaneous Magnetization.\u001b[39m\u001b[33m\"\u001b[39m\n\u001b[32m     19\u001b[39m     )\n\u001b[32m     20\u001b[39m \u001b[38;5;28;01mreturn\u001b[39;00m \u001b[38;5;28msuper\u001b[39m().\u001b[34m__new__\u001b[39m(\u001b[38;5;28mcls\u001b[39m, value, unit, **kwargs)\n",
      "\u001b[31mTypeError\u001b[39m: The units does not match the units of Spontaneous Magnetization."
     ]
    }
   ],
   "source": [
    "m4 = me.Ms(1.2, \"T\")"
   ]
  },
  {
   "cell_type": "markdown",
   "id": "90939f82-0cb5-4eac-a3c2-d9f2cf4940a7",
   "metadata": {},
   "source": [
    "The Quantity object (which is the AstroPy unit object) [supports many operations](https://astro-docs.readthedocs.io/en/latest/units/) that act on the numbers as normal and carries along the units silently. For example:"
   ]
  },
  {
   "cell_type": "code",
   "execution_count": 13,
   "id": "11368211-ab2e-45cc-92d5-7a7ff4341b91",
   "metadata": {},
   "outputs": [
    {
     "data": {
      "text/latex": [
       "$6.4 \\times 10^{11} \\; \\mathrm{\\frac{A^{2}}{m^{2}}}$"
      ],
      "text/plain": [
       "<Quantity 6.4e+11 A2 / m2>"
      ]
     },
     "execution_count": 13,
     "metadata": {},
     "output_type": "execute_result"
    }
   ],
   "source": [
    "m2**2"
   ]
  },
  {
   "cell_type": "markdown",
   "id": "1722e57c-a9fb-4776-8f70-f57d7fed45b6",
   "metadata": {},
   "source": [
    "If for some reason, we need to have just a floating point number, we can extract it using the `.value` attribute:"
   ]
  },
  {
   "cell_type": "code",
   "execution_count": 14,
   "id": "1a7e034a-960d-411a-bc08-ddb020492d53",
   "metadata": {},
   "outputs": [
    {
     "data": {
      "text/plain": [
       "np.float64(800000.0)"
      ]
     },
     "execution_count": 14,
     "metadata": {},
     "output_type": "execute_result"
    }
   ],
   "source": [
    "m2.value"
   ]
  },
  {
   "cell_type": "code",
   "execution_count": 15,
   "id": "c083e160-8661-4d2b-9af3-64899f7c218f",
   "metadata": {},
   "outputs": [
    {
     "data": {
      "text/latex": [
       "$\\mathrm{\\frac{A}{m}}$"
      ],
      "text/plain": [
       "Unit(\"A / m\")"
      ]
     },
     "execution_count": 15,
     "metadata": {},
     "output_type": "execute_result"
    }
   ],
   "source": [
    "m2.unit  # if desired, we can also get the units separately."
   ]
  },
  {
   "cell_type": "markdown",
   "id": "f64b2b3f-b833-4d82-9a65-9fa2859fdbff",
   "metadata": {},
   "source": [
    "## Direct conversion of units"
   ]
  },
  {
   "cell_type": "code",
   "execution_count": 16,
   "id": "8872e8f3-5440-4260-b24d-d4a07f79a7ba",
   "metadata": {},
   "outputs": [
    {
     "name": "stdout",
     "output_type": "stream",
     "text": [
      "SpontaneousMagnetization(value=800000.0, unit=A / m)\n",
      "SpontaneousMagnetization(value=800000000.0, unit=mA / m)\n"
     ]
    }
   ],
   "source": [
    "print(m2)  # 1 T\n",
    "m3 = m2.to(\"mA/m\")  # prefactor change only\n",
    "print(m3)"
   ]
  },
  {
   "cell_type": "markdown",
   "id": "50e9c481-6b23-47fa-ac36-92f361532ea4",
   "metadata": {},
   "source": [
    "## Indirect conversion\n",
    "\n",
    "Where the conversion needs conversion factors with units (here called \"indirect\"), we need to be explicit that this is what we want:"
   ]
  },
  {
   "cell_type": "code",
   "execution_count": 17,
   "id": "c9ed6fb2-cbc6-44b3-8cb7-aaa0bf265aef",
   "metadata": {},
   "outputs": [
    {
     "name": "stdout",
     "output_type": "stream",
     "text": [
      "SpontaneousMagnetization(value=800000000.0, unit=mA / m)\n",
      "1.005309649696 T\n"
     ]
    }
   ],
   "source": [
    "import astropy.units as u\n",
    "print(m3)\n",
    "m4 = m3.quantity.to(\"T\", equivalencies=u.magnetic_flux_field())\n",
    "print(m4)"
   ]
  },
  {
   "cell_type": "markdown",
   "id": "b6e913fe-9878-490b-b54e-09d0fe3cf2b0",
   "metadata": {},
   "source": [
    "## Defining vector entities (Example Zeeman field)"
   ]
  },
  {
   "cell_type": "code",
   "execution_count": 18,
   "id": "e2154132-777d-44ec-9797-683fdcf79d64",
   "metadata": {},
   "outputs": [],
   "source": [
    "H = me.H([1e4, 1e4, 1e4], \"A/m\")"
   ]
  },
  {
   "cell_type": "code",
   "execution_count": 19,
   "id": "0d9c97e5-7f61-46bd-856d-8c58163ed1e7",
   "metadata": {},
   "outputs": [
    {
     "data": {
      "text/latex": [
       "ExternalMagneticField(value=[10000. 10000. 10000.], unit=A / m)"
      ],
      "text/plain": [
       "ExternalMagneticField(value=[10000. 10000. 10000.], unit=A / m)"
      ]
     },
     "execution_count": 19,
     "metadata": {},
     "output_type": "execute_result"
    }
   ],
   "source": [
    "H"
   ]
  },
  {
   "cell_type": "code",
   "execution_count": 20,
   "id": "561dd831-4367-4d80-8416-6f61c7a82d21",
   "metadata": {},
   "outputs": [
    {
     "data": {
      "text/plain": [
       "magnetic_material_mammos.ExternalMagneticField"
      ]
     },
     "execution_count": 20,
     "metadata": {},
     "output_type": "execute_result"
    }
   ],
   "source": [
    "H.ontology"
   ]
  },
  {
   "cell_type": "code",
   "execution_count": 21,
   "id": "8b833b2b-9893-4ecb-a3c4-4d374f026bcb",
   "metadata": {},
   "outputs": [
    {
     "data": {
      "text/plain": [
       "{emmo.hasMeasurementUnit, emmo.elucidation, core.prefLabel, core.altLabel}"
      ]
     },
     "execution_count": 21,
     "metadata": {},
     "output_type": "execute_result"
    }
   ],
   "source": [
    "H.ontology.get_class_properties()"
   ]
  },
  {
   "cell_type": "code",
   "execution_count": 22,
   "id": "bd6389fc-2f74-4ade-ad2d-bf4448c03974",
   "metadata": {},
   "outputs": [
    {
     "data": {
      "text/plain": [
       "[locstr('The external field H′, acting on a sample that is produced by\\nelectric currents or the stray field of magnets outside the sample\\nvolume, is often called the applied field.', 'en')]"
      ]
     },
     "execution_count": 22,
     "metadata": {},
     "output_type": "execute_result"
    }
   ],
   "source": [
    "H.ontology.elucidation"
   ]
  },
  {
   "cell_type": "markdown",
   "id": "b445a08d-8dfa-4a18-961d-94d834ad14e4",
   "metadata": {},
   "source": [
    "## Default units are SI units, more examples"
   ]
  },
  {
   "cell_type": "code",
   "execution_count": 23,
   "id": "e8c0f19d-9f42-4786-ae7c-8a6f0b10f25b",
   "metadata": {},
   "outputs": [
    {
     "data": {
      "text/latex": [
       "SpontaneousMagnetization(value=10000.0, unit=A / m)"
      ],
      "text/plain": [
       "SpontaneousMagnetization(value=10000.0, unit=A / m)"
      ]
     },
     "execution_count": 23,
     "metadata": {},
     "output_type": "execute_result"
    }
   ],
   "source": [
    "me.Ms(1e4)"
   ]
  },
  {
   "cell_type": "code",
   "execution_count": 24,
   "id": "44dd26d2-7e10-4e22-a32a-64ae2f7de52f",
   "metadata": {},
   "outputs": [
    {
     "data": {
      "text/latex": [
       "ExchangeStiffnessConstant(value=0.0001, unit=J / m)"
      ],
      "text/plain": [
       "ExchangeStiffnessConstant(value=0.0001, unit=J / m)"
      ]
     },
     "execution_count": 24,
     "metadata": {},
     "output_type": "execute_result"
    }
   ],
   "source": [
    "me.A(1e-4)"
   ]
  },
  {
   "cell_type": "code",
   "execution_count": 25,
   "id": "317c8007-ce56-4b61-8cc5-282e902ab3f4",
   "metadata": {},
   "outputs": [
    {
     "data": {
      "text/latex": [
       "UniaxialAnisotropyConstant(value=1.6, unit=J / m3)"
      ],
      "text/plain": [
       "UniaxialAnisotropyConstant(value=1.6, unit=J / m3)"
      ]
     },
     "execution_count": 25,
     "metadata": {},
     "output_type": "execute_result"
    }
   ],
   "source": [
    "me.Ku(1.6)"
   ]
  },
  {
   "cell_type": "code",
   "execution_count": 26,
   "id": "81c8c160-3a20-40c5-b3f6-3cb32c007f1d",
   "metadata": {},
   "outputs": [
    {
     "data": {
      "text/latex": [
       "ExternalMagneticField(value=[ 100000.    1000. 1000000.], unit=A / m)"
      ],
      "text/plain": [
       "ExternalMagneticField(value=[ 100000.    1000. 1000000.], unit=A / m)"
      ]
     },
     "execution_count": 26,
     "metadata": {},
     "output_type": "execute_result"
    }
   ],
   "source": [
    "me.H([1e5, 1e3, 1e6])"
   ]
  },
  {
   "cell_type": "markdown",
   "id": "0f0f5a71-a65c-42e1-8016-63c65e5ee33b",
   "metadata": {},
   "source": [
    "## Advanced calculations lose ontology information"
   ]
  },
  {
   "cell_type": "code",
   "execution_count": 27,
   "id": "ec619189-62e7-4467-b862-1a95ea48776b",
   "metadata": {},
   "outputs": [],
   "source": [
    "import numpy as np"
   ]
  },
  {
   "cell_type": "code",
   "execution_count": 28,
   "id": "15630385-accd-4e8e-9ca0-cec405480d43",
   "metadata": {},
   "outputs": [],
   "source": [
    "m5 = me.Ms(1.3e4, \"A/m\")"
   ]
  },
  {
   "cell_type": "code",
   "execution_count": 29,
   "id": "886a0b20-5bd9-47b9-a228-a0df8695accd",
   "metadata": {},
   "outputs": [
    {
     "data": {
      "text/latex": [
       "SpontaneousMagnetization(value=13000.0, unit=A / m)"
      ],
      "text/plain": [
       "SpontaneousMagnetization(value=13000.0, unit=A / m)"
      ]
     },
     "execution_count": 29,
     "metadata": {},
     "output_type": "execute_result"
    }
   ],
   "source": [
    "m5"
   ]
  },
  {
   "cell_type": "code",
   "execution_count": 30,
   "id": "5ae48d71-3d1f-4a0e-8064-636844494645",
   "metadata": {},
   "outputs": [],
   "source": [
    "root_Ms = np.sqrt(m5)"
   ]
  },
  {
   "cell_type": "code",
   "execution_count": 31,
   "id": "0694637b-ab8d-4565-89fd-cf8c6a5e7183",
   "metadata": {},
   "outputs": [
    {
     "data": {
      "text/latex": [
       "$\\mathrm{\\frac{A^{1/2}}{m^{1/2}}}$"
      ],
      "text/plain": [
       "Unit(\"A(1/2) / m(1/2)\")"
      ]
     },
     "execution_count": 31,
     "metadata": {},
     "output_type": "execute_result"
    }
   ],
   "source": [
    "root_Ms.unit"
   ]
  },
  {
   "cell_type": "code",
   "execution_count": 32,
   "id": "20e8d14d-e078-41b8-b5ca-79d81f86dfca",
   "metadata": {},
   "outputs": [
    {
     "ename": "AttributeError",
     "evalue": "'Quantity' object has no 'ontology' member",
     "output_type": "error",
     "traceback": [
      "\u001b[31m---------------------------------------------------------------------------\u001b[39m",
      "\u001b[31mAttributeError\u001b[39m                            Traceback (most recent call last)",
      "\u001b[36mCell\u001b[39m\u001b[36m \u001b[39m\u001b[32mIn[32]\u001b[39m\u001b[32m, line 1\u001b[39m\n\u001b[32m----> \u001b[39m\u001b[32m1\u001b[39m \u001b[43mroot_Ms\u001b[49m\u001b[43m.\u001b[49m\u001b[43montology\u001b[49m\n",
      "\u001b[36mFile \u001b[39m\u001b[32m~/micromamba/envs/mammos-entities/lib/python3.13/site-packages/astropy/units/quantity.py:1095\u001b[39m, in \u001b[36mQuantity.__getattr__\u001b[39m\u001b[34m(self, attr)\u001b[39m\n\u001b[32m   1090\u001b[39m \u001b[38;5;250m\u001b[39m\u001b[33;03m\"\"\"\u001b[39;00m\n\u001b[32m   1091\u001b[39m \u001b[33;03mQuantities are able to directly convert to other units that\u001b[39;00m\n\u001b[32m   1092\u001b[39m \u001b[33;03mhave the same physical type.\u001b[39;00m\n\u001b[32m   1093\u001b[39m \u001b[33;03m\"\"\"\u001b[39;00m\n\u001b[32m   1094\u001b[39m \u001b[38;5;28;01mif\u001b[39;00m \u001b[38;5;129;01mnot\u001b[39;00m \u001b[38;5;28mself\u001b[39m._include_easy_conversion_members:\n\u001b[32m-> \u001b[39m\u001b[32m1095\u001b[39m     \u001b[38;5;28;01mraise\u001b[39;00m \u001b[38;5;167;01mAttributeError\u001b[39;00m(\n\u001b[32m   1096\u001b[39m         \u001b[33mf\u001b[39m\u001b[33m\"\u001b[39m\u001b[33m'\u001b[39m\u001b[38;5;132;01m{\u001b[39;00m\u001b[38;5;28mself\u001b[39m.\u001b[34m__class__\u001b[39m.\u001b[34m__name__\u001b[39m\u001b[38;5;132;01m}\u001b[39;00m\u001b[33m'\u001b[39m\u001b[33m object has no \u001b[39m\u001b[33m'\u001b[39m\u001b[38;5;132;01m{\u001b[39;00mattr\u001b[38;5;132;01m}\u001b[39;00m\u001b[33m'\u001b[39m\u001b[33m member\u001b[39m\u001b[33m\"\u001b[39m\n\u001b[32m   1097\u001b[39m     )\n\u001b[32m   1099\u001b[39m \u001b[38;5;28;01mdef\u001b[39;00m\u001b[38;5;250m \u001b[39m\u001b[34mget_virtual_unit_attribute\u001b[39m():\n\u001b[32m   1100\u001b[39m     registry = get_current_unit_registry().registry\n",
      "\u001b[31mAttributeError\u001b[39m: 'Quantity' object has no 'ontology' member"
     ]
    }
   ],
   "source": [
    "root_Ms.ontology"
   ]
  },
  {
   "cell_type": "markdown",
   "id": "9897f3f0-d07a-4f72-8ed7-8246ceb73def",
   "metadata": {},
   "source": [
    "As we cannot define sensible Ontology entries for all the possible mathematical operations, it is sensible behaviour to lose the Ontology information when we carry out numeric operations with the Entities. (Technically: the Entity object becomes a Quantity object.)"
   ]
  },
  {
   "cell_type": "markdown",
   "id": "dfad3171-82d0-455e-aea7-4ec3eec94ca5",
   "metadata": {},
   "source": [
    "## Does `mammos_entity` not provide your preferred entity?"
   ]
  },
  {
   "cell_type": "markdown",
   "id": "22434934-8e0d-47d6-8f3c-022460f58163",
   "metadata": {},
   "source": [
    "If you preferred entity is not avalable as a short name (such as `Ms`, `A`, `H`) then we should add it. Please get in touch with the MPSD group."
   ]
  }
 ],
 "metadata": {
  "kernelspec": {
   "display_name": "Python 3 (ipykernel)",
   "language": "python",
   "name": "python3"
  },
  "language_info": {
   "codemirror_mode": {
    "name": "ipython",
    "version": 3
   },
   "file_extension": ".py",
   "mimetype": "text/x-python",
   "name": "python",
   "nbconvert_exporter": "python",
   "pygments_lexer": "ipython3",
   "version": "3.13.2"
  }
 },
 "nbformat": 4,
 "nbformat_minor": 5
}
