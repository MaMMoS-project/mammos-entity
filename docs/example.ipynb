{
 "cells": [
  {
   "cell_type": "code",
   "execution_count": 1,
   "id": "e51d915f-2c57-4336-93c1-5099db9e29cd",
   "metadata": {},
   "outputs": [],
   "source": [
    "import mammos_entity as me"
   ]
  },
  {
   "cell_type": "markdown",
   "id": "e119a402-6ba7-4d4f-b21f-1d411d5b3803",
   "metadata": {},
   "source": [
    "#### 1. We can assign units as string (no additional import)"
   ]
  },
  {
   "cell_type": "code",
   "execution_count": 2,
   "id": "18d278b1-c6aa-431a-9ba3-1a4c52d3e18d",
   "metadata": {},
   "outputs": [],
   "source": [
    "Ms = me.Ms(1.25, \"T\")"
   ]
  },
  {
   "cell_type": "code",
   "execution_count": 3,
   "id": "58944d2b-54a0-4788-aa70-81663de1df7c",
   "metadata": {},
   "outputs": [
    {
     "data": {
      "text/latex": [
       "SpontaneousMagnetization(value=1.25, unit=T)"
      ],
      "text/plain": [
       "SpontaneousMagnetization(value=1.25, unit=T)"
      ]
     },
     "execution_count": 3,
     "metadata": {},
     "output_type": "execute_result"
    }
   ],
   "source": [
    "Ms"
   ]
  },
  {
   "cell_type": "markdown",
   "id": "c28377a2-aa40-4ecb-a8aa-bd3c5b555819",
   "metadata": {},
   "source": [
    "#### 2. Direct access to `value` and `unit`"
   ]
  },
  {
   "cell_type": "code",
   "execution_count": 4,
   "id": "1a7e034a-960d-411a-bc08-ddb020492d53",
   "metadata": {},
   "outputs": [
    {
     "data": {
      "text/plain": [
       "(np.float64(1.25), Unit(\"T\"))"
      ]
     },
     "execution_count": 4,
     "metadata": {},
     "output_type": "execute_result"
    }
   ],
   "source": [
    "Ms.value, Ms.unit"
   ]
  },
  {
   "cell_type": "markdown",
   "id": "f64b2b3f-b833-4d82-9a65-9fa2859fdbff",
   "metadata": {},
   "source": [
    "#### 3. Direct conversion of units"
   ]
  },
  {
   "cell_type": "code",
   "execution_count": 5,
   "id": "8872e8f3-5440-4260-b24d-d4a07f79a7ba",
   "metadata": {},
   "outputs": [
    {
     "data": {
      "text/latex": [
       "SpontaneousMagnetization(value=1250.0, unit=mT)"
      ],
      "text/plain": [
       "SpontaneousMagnetization(value=1250.0, unit=mT)"
      ]
     },
     "execution_count": 5,
     "metadata": {},
     "output_type": "execute_result"
    }
   ],
   "source": [
    "Ms.to(\"mT\")"
   ]
  },
  {
   "cell_type": "code",
   "execution_count": 6,
   "id": "b80507d2-c6d7-4d9b-ada5-9ad96007bb95",
   "metadata": {},
   "outputs": [],
   "source": [
    "import astropy.units as u"
   ]
  },
  {
   "cell_type": "code",
   "execution_count": 7,
   "id": "9f7e86e4-ab56-4763-9ce1-d57b9aa49b3a",
   "metadata": {},
   "outputs": [
    {
     "data": {
      "text/latex": [
       "SpontaneousMagnetization(value=12499.999993195303, unit=Oe)"
      ],
      "text/plain": [
       "SpontaneousMagnetization(value=12499.999993195303, unit=Oe)"
      ]
     },
     "execution_count": 7,
     "metadata": {},
     "output_type": "execute_result"
    }
   ],
   "source": [
    "Ms.to(\"Oe\", equivalencies=u.magnetic_flux_field())"
   ]
  },
  {
   "cell_type": "markdown",
   "id": "0850f96a-546a-4db6-ba87-934c8853bb8f",
   "metadata": {},
   "source": [
    "#### 4. Link to ontology"
   ]
  },
  {
   "cell_type": "code",
   "execution_count": 8,
   "id": "ec5f9f43-1382-45ab-8316-ff44ea2258ec",
   "metadata": {},
   "outputs": [
    {
     "data": {
      "text/plain": [
       "magnetic_material_mammos.SpontaneousMagnetization"
      ]
     },
     "execution_count": 8,
     "metadata": {},
     "output_type": "execute_result"
    }
   ],
   "source": [
    "Ms.ontology"
   ]
  },
  {
   "cell_type": "code",
   "execution_count": 9,
   "id": "82142323-d497-4d95-9a4b-1d0aecb567ac",
   "metadata": {},
   "outputs": [
    {
     "data": {
      "text/plain": [
       "{magnetic_material_mammos.IECEntry,\n",
       " emmo.elucidation,\n",
       " emmo.hasMeasurementUnit,\n",
       " core.altLabel,\n",
       " magnetic_material_mammos.wikipediaReference,\n",
       " core.prefLabel}"
      ]
     },
     "execution_count": 9,
     "metadata": {},
     "output_type": "execute_result"
    }
   ],
   "source": [
    "Ms.ontology.get_class_properties()"
   ]
  },
  {
   "cell_type": "code",
   "execution_count": 10,
   "id": "489c389a-e81e-45d8-bc44-c351360f838a",
   "metadata": {},
   "outputs": [
    {
     "data": {
      "text/plain": [
       "[locstr('Ms', '')]"
      ]
     },
     "execution_count": 10,
     "metadata": {},
     "output_type": "execute_result"
    }
   ],
   "source": [
    "Ms.ontology.altLabel"
   ]
  },
  {
   "cell_type": "markdown",
   "id": "a467bbb4-6a57-45d1-bfb8-d30f6c0c3010",
   "metadata": {},
   "source": [
    "#### 5. Check for the acceptable units"
   ]
  },
  {
   "cell_type": "code",
   "execution_count": 11,
   "id": "9f98f7a4-aa41-48dd-acc4-2b57b22fe1b0",
   "metadata": {},
   "outputs": [
    {
     "name": "stdout",
     "output_type": "stream",
     "text": [
      "TypeError: The units does not match the units of Spontaneous Magnetization.\n"
     ]
    }
   ],
   "source": [
    "try:\n",
    "    Ms_test = me.Ms(1.2, \"m\")\n",
    "except TypeError as e:\n",
    "    print(f\"TypeError: {e}\")"
   ]
  },
  {
   "cell_type": "markdown",
   "id": "b6e913fe-9878-490b-b54e-09d0fe3cf2b0",
   "metadata": {},
   "source": [
    "#### 6. Vector entities are not special anymore"
   ]
  },
  {
   "cell_type": "code",
   "execution_count": 12,
   "id": "e2154132-777d-44ec-9797-683fdcf79d64",
   "metadata": {},
   "outputs": [],
   "source": [
    "H = me.H([1, 1, 1], \"T\")"
   ]
  },
  {
   "cell_type": "code",
   "execution_count": 13,
   "id": "0d9c97e5-7f61-46bd-856d-8c58163ed1e7",
   "metadata": {},
   "outputs": [
    {
     "data": {
      "text/latex": [
       "ExternalMagneticField(value=[1. 1. 1.], unit=T)"
      ],
      "text/plain": [
       "ExternalMagneticField(value=[1. 1. 1.], unit=T)"
      ]
     },
     "execution_count": 13,
     "metadata": {},
     "output_type": "execute_result"
    }
   ],
   "source": [
    "H"
   ]
  },
  {
   "cell_type": "code",
   "execution_count": 14,
   "id": "561dd831-4367-4d80-8416-6f61c7a82d21",
   "metadata": {},
   "outputs": [
    {
     "data": {
      "text/plain": [
       "magnetic_material_mammos.ExternalMagneticField"
      ]
     },
     "execution_count": 14,
     "metadata": {},
     "output_type": "execute_result"
    }
   ],
   "source": [
    "H.ontology"
   ]
  },
  {
   "cell_type": "code",
   "execution_count": 15,
   "id": "8b833b2b-9893-4ecb-a3c4-4d374f026bcb",
   "metadata": {},
   "outputs": [
    {
     "data": {
      "text/plain": [
       "{core.altLabel, emmo.elucidation, core.prefLabel, emmo.hasMeasurementUnit}"
      ]
     },
     "execution_count": 15,
     "metadata": {},
     "output_type": "execute_result"
    }
   ],
   "source": [
    "H.ontology.get_class_properties()"
   ]
  },
  {
   "cell_type": "code",
   "execution_count": 16,
   "id": "bd6389fc-2f74-4ade-ad2d-bf4448c03974",
   "metadata": {},
   "outputs": [
    {
     "data": {
      "text/plain": [
       "[locstr('The external field H′, acting on a sample that is produced by\\nelectric currents or the stray field of magnets outside the sample\\nvolume, is often called the applied field.', 'en')]"
      ]
     },
     "execution_count": 16,
     "metadata": {},
     "output_type": "execute_result"
    }
   ],
   "source": [
    "H.ontology.elucidation"
   ]
  },
  {
   "cell_type": "markdown",
   "id": "b445a08d-8dfa-4a18-961d-94d834ad14e4",
   "metadata": {},
   "source": [
    "#### 7. Default values"
   ]
  },
  {
   "cell_type": "code",
   "execution_count": 17,
   "id": "e8c0f19d-9f42-4786-ae7c-8a6f0b10f25b",
   "metadata": {},
   "outputs": [
    {
     "data": {
      "text/latex": [
       "SpontaneousMagnetization(value=10000.0, unit=A / m)"
      ],
      "text/plain": [
       "SpontaneousMagnetization(value=10000.0, unit=A / m)"
      ]
     },
     "execution_count": 17,
     "metadata": {},
     "output_type": "execute_result"
    }
   ],
   "source": [
    "me.Ms(1e4)"
   ]
  },
  {
   "cell_type": "code",
   "execution_count": 24,
   "id": "44dd26d2-7e10-4e22-a32a-64ae2f7de52f",
   "metadata": {},
   "outputs": [
    {
     "data": {
      "text/latex": [
       "ExchangeStiffnessConstant(value=0.0001, unit=J / m)"
      ],
      "text/plain": [
       "ExchangeStiffnessConstant(value=0.0001, unit=J / m)"
      ]
     },
     "execution_count": 24,
     "metadata": {},
     "output_type": "execute_result"
    }
   ],
   "source": [
    "me.A(1e-4)"
   ]
  },
  {
   "cell_type": "code",
   "execution_count": 25,
   "id": "317c8007-ce56-4b61-8cc5-282e902ab3f4",
   "metadata": {},
   "outputs": [
    {
     "data": {
      "text/latex": [
       "UniaxialAnisotropyConstant(value=1.6, unit=J / m3)"
      ],
      "text/plain": [
       "UniaxialAnisotropyConstant(value=1.6, unit=J / m3)"
      ]
     },
     "execution_count": 25,
     "metadata": {},
     "output_type": "execute_result"
    }
   ],
   "source": [
    "me.Ku(1.6)"
   ]
  },
  {
   "cell_type": "code",
   "execution_count": 26,
   "id": "81c8c160-3a20-40c5-b3f6-3cb32c007f1d",
   "metadata": {},
   "outputs": [
    {
     "data": {
      "text/latex": [
       "ExternalMagneticField(value=[ 100000.    1000. 1000000.], unit=A / m)"
      ],
      "text/plain": [
       "ExternalMagneticField(value=[ 100000.    1000. 1000000.], unit=A / m)"
      ]
     },
     "execution_count": 26,
     "metadata": {},
     "output_type": "execute_result"
    }
   ],
   "source": [
    "me.H([1e5, 1e3, 1e6])"
   ]
  },
  {
   "cell_type": "markdown",
   "id": "0f0f5a71-a65c-42e1-8016-63c65e5ee33b",
   "metadata": {},
   "source": [
    "### Things that do not work"
   ]
  },
  {
   "cell_type": "markdown",
   "id": "c3a04425-5d79-413a-ab8c-a19440b60592",
   "metadata": {},
   "source": [
    "#### 1. Cannot shake the ontology property"
   ]
  },
  {
   "cell_type": "code",
   "execution_count": 18,
   "id": "ec619189-62e7-4467-b862-1a95ea48776b",
   "metadata": {},
   "outputs": [],
   "source": [
    "import numpy as np"
   ]
  },
  {
   "cell_type": "code",
   "execution_count": 19,
   "id": "15630385-accd-4e8e-9ca0-cec405480d43",
   "metadata": {},
   "outputs": [],
   "source": [
    "Ms_test = me.Ms(1.3, \"T\")"
   ]
  },
  {
   "cell_type": "code",
   "execution_count": 20,
   "id": "886a0b20-5bd9-47b9-a228-a0df8695accd",
   "metadata": {},
   "outputs": [
    {
     "data": {
      "text/latex": [
       "SpontaneousMagnetization(value=1.3, unit=T)"
      ],
      "text/plain": [
       "SpontaneousMagnetization(value=1.3, unit=T)"
      ]
     },
     "execution_count": 20,
     "metadata": {},
     "output_type": "execute_result"
    }
   ],
   "source": [
    "Ms_test"
   ]
  },
  {
   "cell_type": "code",
   "execution_count": 21,
   "id": "5ae48d71-3d1f-4a0e-8064-636844494645",
   "metadata": {},
   "outputs": [],
   "source": [
    "root_Ms = np.sqrt(Ms_test)"
   ]
  },
  {
   "cell_type": "code",
   "execution_count": 22,
   "id": "0694637b-ab8d-4565-89fd-cf8c6a5e7183",
   "metadata": {},
   "outputs": [
    {
     "data": {
      "text/latex": [
       "$\\mathrm{T^{1/2}}$"
      ],
      "text/plain": [
       "Unit(\"T(1/2)\")"
      ]
     },
     "execution_count": 22,
     "metadata": {},
     "output_type": "execute_result"
    }
   ],
   "source": [
    "root_Ms.unit"
   ]
  },
  {
   "cell_type": "code",
   "execution_count": 23,
   "id": "20e8d14d-e078-41b8-b5ca-79d81f86dfca",
   "metadata": {},
   "outputs": [
    {
     "data": {
      "text/plain": [
       "magnetic_material_mammos.SpontaneousMagnetization"
      ]
     },
     "execution_count": 23,
     "metadata": {},
     "output_type": "execute_result"
    }
   ],
   "source": [
    "root_Ms.ontology"
   ]
  },
  {
   "cell_type": "markdown",
   "id": "29e14e83-2966-4253-bacb-2fe989877fd6",
   "metadata": {},
   "source": [
    "My initial thoughts are that we need to override the numpy dunder methods to solve this since the `__new__` classmethod of `astropy.units.Quantity` returns a `np.ndarray`."
   ]
  }
 ],
 "metadata": {
  "kernelspec": {
   "display_name": "Python 3 (ipykernel)",
   "language": "python",
   "name": "python3"
  },
  "language_info": {
   "codemirror_mode": {
    "name": "ipython",
    "version": 3
   },
   "file_extension": ".py",
   "mimetype": "text/x-python",
   "name": "python",
   "nbconvert_exporter": "python",
   "pygments_lexer": "ipython3",
   "version": "3.13.2"
  }
 },
 "nbformat": 4,
 "nbformat_minor": 5
}
