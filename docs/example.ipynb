{
 "cells": [
  {
   "cell_type": "code",
   "execution_count": 1,
   "id": "e51d915f-2c57-4336-93c1-5099db9e29cd",
   "metadata": {},
   "outputs": [],
   "source": [
    "import mammos_entity as me"
   ]
  },
  {
   "cell_type": "code",
   "execution_count": 2,
   "id": "2bc6ad2e-3651-40c8-aa12-fe0e9b796a5e",
   "metadata": {},
   "outputs": [],
   "source": [
    "import mammosunits as u"
   ]
  },
  {
   "cell_type": "markdown",
   "id": "4fb4970f-b92e-49e4-86b2-19f96d06e146",
   "metadata": {},
   "source": [
    "### Scalar entities"
   ]
  },
  {
   "cell_type": "code",
   "execution_count": 3,
   "id": "18d278b1-c6aa-431a-9ba3-1a4c52d3e18d",
   "metadata": {},
   "outputs": [],
   "source": [
    "Ms = me.Ms(1.35 * u.T)"
   ]
  },
  {
   "cell_type": "code",
   "execution_count": 4,
   "id": "58944d2b-54a0-4788-aa70-81663de1df7c",
   "metadata": {},
   "outputs": [
    {
     "data": {
      "text/plain": [
       "SpontaneousMagnetization(value=1.35, unit=T)"
      ]
     },
     "execution_count": 4,
     "metadata": {},
     "output_type": "execute_result"
    }
   ],
   "source": [
    "Ms"
   ]
  },
  {
   "cell_type": "code",
   "execution_count": 5,
   "id": "8905fb63-910e-46dc-90ef-2e2f6e8b4c6a",
   "metadata": {},
   "outputs": [
    {
     "data": {
      "text/latex": [
       "$1.35 \\; \\mathrm{T}$"
      ],
      "text/plain": [
       "<Quantity 1.35 T>"
      ]
     },
     "execution_count": 5,
     "metadata": {},
     "output_type": "execute_result"
    }
   ],
   "source": [
    "Ms.quantity"
   ]
  },
  {
   "cell_type": "code",
   "execution_count": 6,
   "id": "1a7e034a-960d-411a-bc08-ddb020492d53",
   "metadata": {},
   "outputs": [
    {
     "data": {
      "text/plain": [
       "(np.float64(1.35), Unit(\"T\"))"
      ]
     },
     "execution_count": 6,
     "metadata": {},
     "output_type": "execute_result"
    }
   ],
   "source": [
    "Ms.quantity.value, Ms.quantity.unit"
   ]
  },
  {
   "cell_type": "code",
   "execution_count": 7,
   "id": "8872e8f3-5440-4260-b24d-d4a07f79a7ba",
   "metadata": {},
   "outputs": [],
   "source": [
    "Ms.quantity = Ms.quantity.to(u.mT)"
   ]
  },
  {
   "cell_type": "code",
   "execution_count": 8,
   "id": "aeb7938e-c2fb-473d-8986-be65286f16e6",
   "metadata": {},
   "outputs": [
    {
     "data": {
      "text/plain": [
       "SpontaneousMagnetization(value=1350.0, unit=mT)"
      ]
     },
     "execution_count": 8,
     "metadata": {},
     "output_type": "execute_result"
    }
   ],
   "source": [
    "Ms"
   ]
  },
  {
   "cell_type": "code",
   "execution_count": 9,
   "id": "9f7e86e4-ab56-4763-9ce1-d57b9aa49b3a",
   "metadata": {},
   "outputs": [],
   "source": [
    "Ms.quantity = Ms.quantity.to(u.Oe, equivalencies=u.magnetic_flux_field())"
   ]
  },
  {
   "cell_type": "code",
   "execution_count": 10,
   "id": "4708cf22-e3dc-4bba-a789-7a1968b7531e",
   "metadata": {},
   "outputs": [
    {
     "data": {
      "text/plain": [
       "SpontaneousMagnetization(value=13499.999992650926, unit=Oe)"
      ]
     },
     "execution_count": 10,
     "metadata": {},
     "output_type": "execute_result"
    }
   ],
   "source": [
    "Ms"
   ]
  },
  {
   "cell_type": "code",
   "execution_count": 11,
   "id": "ec5f9f43-1382-45ab-8316-ff44ea2258ec",
   "metadata": {},
   "outputs": [
    {
     "data": {
      "text/plain": [
       "magnetic_material_mammos.SpontaneousMagnetization"
      ]
     },
     "execution_count": 11,
     "metadata": {},
     "output_type": "execute_result"
    }
   ],
   "source": [
    "Ms.ontology"
   ]
  },
  {
   "cell_type": "code",
   "execution_count": 12,
   "id": "82142323-d497-4d95-9a4b-1d0aecb567ac",
   "metadata": {},
   "outputs": [
    {
     "data": {
      "text/plain": [
       "{magnetic_material_mammos.IECEntry,\n",
       " emmo.elucidation,\n",
       " core.altLabel,\n",
       " magnetic_material_mammos.wikipediaReference,\n",
       " emmo.hasMeasurementUnit,\n",
       " core.prefLabel}"
      ]
     },
     "execution_count": 12,
     "metadata": {},
     "output_type": "execute_result"
    }
   ],
   "source": [
    "Ms.ontology.get_class_properties()"
   ]
  },
  {
   "cell_type": "code",
   "execution_count": 13,
   "id": "489c389a-e81e-45d8-bc44-c351360f838a",
   "metadata": {},
   "outputs": [
    {
     "data": {
      "text/plain": [
       "[locstr('Ms', '')]"
      ]
     },
     "execution_count": 13,
     "metadata": {},
     "output_type": "execute_result"
    }
   ],
   "source": [
    "Ms.ontology.altLabel"
   ]
  },
  {
   "cell_type": "code",
   "execution_count": 14,
   "id": "7f0a7f85-23da-4487-8fe9-8a546032e188",
   "metadata": {},
   "outputs": [
    {
     "data": {
      "text/plain": [
       "[emmo.AmperePerCentiMetre,\n",
       " emmo.AmperePerMilliMetre,\n",
       " emmo.MilliAmperePerMilliMetre,\n",
       " emmo.AmperePerMetre,\n",
       " emmo.KiloAmperePerMetre]"
      ]
     },
     "execution_count": 14,
     "metadata": {},
     "output_type": "execute_result"
    }
   ],
   "source": [
    "list(Ms.ontology.hasMeasurementUnit[0].subclasses())"
   ]
  },
  {
   "cell_type": "code",
   "execution_count": 15,
   "id": "9f98f7a4-aa41-48dd-acc4-2b57b22fe1b0",
   "metadata": {},
   "outputs": [
    {
     "name": "stdout",
     "output_type": "stream",
     "text": [
      "TypeError: The units does not match the units of SpontaneousMagnetization\n"
     ]
    }
   ],
   "source": [
    "try:\n",
    "    Ms.quantity = 24 * u.m\n",
    "except TypeError as e:\n",
    "    print(f\"TypeError: {e}\")"
   ]
  },
  {
   "cell_type": "markdown",
   "id": "b6e913fe-9878-490b-b54e-09d0fe3cf2b0",
   "metadata": {},
   "source": [
    "### Vector entities"
   ]
  },
  {
   "cell_type": "code",
   "execution_count": 16,
   "id": "e2154132-777d-44ec-9797-683fdcf79d64",
   "metadata": {},
   "outputs": [],
   "source": [
    "H = me.H(200 * u.mT, direction=[1, 1, 1])"
   ]
  },
  {
   "cell_type": "code",
   "execution_count": 17,
   "id": "0d9c97e5-7f61-46bd-856d-8c58163ed1e7",
   "metadata": {},
   "outputs": [
    {
     "data": {
      "text/plain": [
       "ExternalMagneticField(value=200.0, unit=mT, direction=[0.57735027 0.57735027 0.57735027])"
      ]
     },
     "execution_count": 17,
     "metadata": {},
     "output_type": "execute_result"
    }
   ],
   "source": [
    "H"
   ]
  },
  {
   "cell_type": "code",
   "execution_count": 18,
   "id": "c39337b5-f321-4e8a-9304-caf59529343d",
   "metadata": {},
   "outputs": [
    {
     "data": {
      "text/latex": [
       "$200 \\; \\mathrm{mT}$"
      ],
      "text/plain": [
       "<Quantity 200. mT>"
      ]
     },
     "execution_count": 18,
     "metadata": {},
     "output_type": "execute_result"
    }
   ],
   "source": [
    "H.quantity"
   ]
  },
  {
   "cell_type": "code",
   "execution_count": 19,
   "id": "00684d07-f65d-445b-abbf-cbc060ff992b",
   "metadata": {},
   "outputs": [
    {
     "data": {
      "text/plain": [
       "array([0.57735027, 0.57735027, 0.57735027])"
      ]
     },
     "execution_count": 19,
     "metadata": {},
     "output_type": "execute_result"
    }
   ],
   "source": [
    "H.direction"
   ]
  },
  {
   "cell_type": "code",
   "execution_count": 20,
   "id": "30587f17-bd8c-49c1-8b47-59da7abd6c38",
   "metadata": {},
   "outputs": [
    {
     "name": "stdout",
     "output_type": "stream",
     "text": [
      "TypeError: The direction must be a sequence.\n"
     ]
    }
   ],
   "source": [
    "try:\n",
    "    H.direction = 2\n",
    "except TypeError as e:\n",
    "    print(f\"TypeError: {e}\")"
   ]
  },
  {
   "cell_type": "code",
   "execution_count": 21,
   "id": "16bbc256-b7aa-444e-a4f2-059877b85c7d",
   "metadata": {},
   "outputs": [
    {
     "data": {
      "text/plain": [
       "\u001b[31mType:\u001b[39m        property\n",
       "\u001b[31mString form:\u001b[39m <property object at 0x72108ac1b790>\n",
       "\u001b[31mDocstring:\u001b[39m  \n",
       "numpy.ndarray: The direction vector (normalized) representing the orientation\n",
       "of the entity in space."
      ]
     },
     "metadata": {},
     "output_type": "display_data"
    }
   ],
   "source": [
    "H.direction?"
   ]
  },
  {
   "cell_type": "code",
   "execution_count": 22,
   "id": "561dd831-4367-4d80-8416-6f61c7a82d21",
   "metadata": {},
   "outputs": [
    {
     "data": {
      "text/plain": [
       "magnetic_material_mammos.ExternalMagneticField"
      ]
     },
     "execution_count": 22,
     "metadata": {},
     "output_type": "execute_result"
    }
   ],
   "source": [
    "H.ontology"
   ]
  },
  {
   "cell_type": "code",
   "execution_count": 23,
   "id": "8b833b2b-9893-4ecb-a3c4-4d374f026bcb",
   "metadata": {},
   "outputs": [
    {
     "data": {
      "text/plain": [
       "{core.altLabel, emmo.hasMeasurementUnit, emmo.elucidation, core.prefLabel}"
      ]
     },
     "execution_count": 23,
     "metadata": {},
     "output_type": "execute_result"
    }
   ],
   "source": [
    "H.ontology.get_class_properties()"
   ]
  },
  {
   "cell_type": "code",
   "execution_count": 24,
   "id": "bd6389fc-2f74-4ade-ad2d-bf4448c03974",
   "metadata": {},
   "outputs": [
    {
     "data": {
      "text/plain": [
       "[locstr('The external field H′, acting on a sample that is produced by\\nelectric currents or the stray field of magnets outside the sample\\nvolume, is often called the applied field.', 'en')]"
      ]
     },
     "execution_count": 24,
     "metadata": {},
     "output_type": "execute_result"
    }
   ],
   "source": [
    "H.ontology.elucidation"
   ]
  },
  {
   "cell_type": "markdown",
   "id": "0f0f5a71-a65c-42e1-8016-63c65e5ee33b",
   "metadata": {},
   "source": [
    "### All definitions"
   ]
  },
  {
   "cell_type": "code",
   "execution_count": 25,
   "id": "ec619189-62e7-4467-b862-1a95ea48776b",
   "metadata": {},
   "outputs": [
    {
     "data": {
      "text/plain": [
       "\u001b[31mInit signature:\u001b[39m me.A(quantity: astropy.units.quantity.Quantity)\n",
       "\u001b[31mDocstring:\u001b[39m     \n",
       "Represents the Exchange Stiffness Constant (A).\n",
       "\n",
       "This is a scalar entity whose units must be J/m (joules per meter).\n",
       "\u001b[31mInit docstring:\u001b[39m\n",
       "Initialize the scalar entity with a specified quantity.\n",
       "\n",
       ":param quantity: The initial quantity with physical units.\n",
       ":type quantity: astropy.units.Quantity\n",
       "\u001b[31mFile:\u001b[39m           ~/Projects/mammos-entity/src/mammos_entity/entities.py\n",
       "\u001b[31mType:\u001b[39m           ABCMeta\n",
       "\u001b[31mSubclasses:\u001b[39m     "
      ]
     },
     "metadata": {},
     "output_type": "display_data"
    }
   ],
   "source": [
    "me.A?"
   ]
  },
  {
   "cell_type": "code",
   "execution_count": 26,
   "id": "886a0b20-5bd9-47b9-a228-a0df8695accd",
   "metadata": {},
   "outputs": [
    {
     "data": {
      "text/plain": [
       "\u001b[31mInit signature:\u001b[39m\n",
       "me.Ku(\n",
       "    quantity: astropy.units.quantity.Quantity,\n",
       "    direction: Sequence[[<\u001b[38;5;28;01mclass\u001b[39;00m \u001b[33m'float'\u001b[39m>, <\u001b[38;5;28;01mclass\u001b[39;00m \u001b[33m'int'\u001b[39m>]],\n",
       ")\n",
       "\u001b[31mDocstring:\u001b[39m     \n",
       "Represents the Uniaxial Anisotropy Constant (Kᵤ).\n",
       "\n",
       "This is a vector entity whose magnitude’s units must be J/m³\n",
       "(joules per cubic meter), and whose direction is a normalized vector in space.\n",
       "\u001b[31mInit docstring:\u001b[39m\n",
       "Initialize a vector entity with a scalar quantity and a direction.\n",
       "\n",
       ":param quantity: The magnitude of the vector with physical units.\n",
       ":type quantity: astropy.units.Quantity\n",
       ":param direction: The components of the direction as a sequence of floats.\n",
       ":type direction: Sequence[[float, int]]\n",
       "\n",
       ":raises TypeError: If the direction is not a sequence.\n",
       ":raises ValueError: If the direction has a zero or invalid norm.\n",
       "\u001b[31mFile:\u001b[39m           ~/Projects/mammos-entity/src/mammos_entity/entities.py\n",
       "\u001b[31mType:\u001b[39m           ABCMeta\n",
       "\u001b[31mSubclasses:\u001b[39m     "
      ]
     },
     "metadata": {},
     "output_type": "display_data"
    }
   ],
   "source": [
    "me.Ku?"
   ]
  },
  {
   "cell_type": "code",
   "execution_count": 27,
   "id": "c6982f39-ca31-4efa-9a9a-f69c32dfdcc5",
   "metadata": {},
   "outputs": [
    {
     "data": {
      "text/plain": [
       "\u001b[31mInit signature:\u001b[39m me.Ms(quantity: astropy.units.quantity.Quantity)\n",
       "\u001b[31mDocstring:\u001b[39m     \n",
       "Represents the Spontaneous Magnetization (Mₛ).\n",
       "\n",
       "This is a scalar entity whose units are either A/m or T (tesla),\n",
       "corresponding to the magnetization.\n",
       "\u001b[31mInit docstring:\u001b[39m\n",
       "Initialize the scalar entity with a specified quantity.\n",
       "\n",
       ":param quantity: The initial quantity with physical units.\n",
       ":type quantity: astropy.units.Quantity\n",
       "\u001b[31mFile:\u001b[39m           ~/Projects/mammos-entity/src/mammos_entity/entities.py\n",
       "\u001b[31mType:\u001b[39m           ABCMeta\n",
       "\u001b[31mSubclasses:\u001b[39m     "
      ]
     },
     "metadata": {},
     "output_type": "display_data"
    }
   ],
   "source": [
    "me.Ms?"
   ]
  },
  {
   "cell_type": "code",
   "execution_count": 28,
   "id": "6b68392c-62b6-4be2-b1c5-3641d79c8e2a",
   "metadata": {},
   "outputs": [
    {
     "data": {
      "text/plain": [
       "\u001b[31mInit signature:\u001b[39m\n",
       "me.H(\n",
       "    quantity: astropy.units.quantity.Quantity,\n",
       "    direction: Sequence[[<\u001b[38;5;28;01mclass\u001b[39;00m \u001b[33m'float'\u001b[39m>, <\u001b[38;5;28;01mclass\u001b[39;00m \u001b[33m'int'\u001b[39m>]],\n",
       ")\n",
       "\u001b[31mDocstring:\u001b[39m     \n",
       "Represents the External Magnetic Field (H).\n",
       "\n",
       "This is a vector entity whose magnitude’s units are either A/m or T (tesla),\n",
       "representing an external field applied to the material.\n",
       "\u001b[31mInit docstring:\u001b[39m\n",
       "Initialize a vector entity with a scalar quantity and a direction.\n",
       "\n",
       ":param quantity: The magnitude of the vector with physical units.\n",
       ":type quantity: astropy.units.Quantity\n",
       ":param direction: The components of the direction as a sequence of floats.\n",
       ":type direction: Sequence[[float, int]]\n",
       "\n",
       ":raises TypeError: If the direction is not a sequence.\n",
       ":raises ValueError: If the direction has a zero or invalid norm.\n",
       "\u001b[31mFile:\u001b[39m           ~/Projects/mammos-entity/src/mammos_entity/entities.py\n",
       "\u001b[31mType:\u001b[39m           ABCMeta\n",
       "\u001b[31mSubclasses:\u001b[39m     "
      ]
     },
     "metadata": {},
     "output_type": "display_data"
    }
   ],
   "source": [
    "me.H?"
   ]
  }
 ],
 "metadata": {
  "kernelspec": {
   "display_name": "Python 3 (ipykernel)",
   "language": "python",
   "name": "python3"
  },
  "language_info": {
   "codemirror_mode": {
    "name": "ipython",
    "version": 3
   },
   "file_extension": ".py",
   "mimetype": "text/x-python",
   "name": "python",
   "nbconvert_exporter": "python",
   "pygments_lexer": "ipython3",
   "version": "3.13.2"
  }
 },
 "nbformat": 4,
 "nbformat_minor": 5
}
