{
 "cells": [
  {
   "cell_type": "code",
   "execution_count": 2,
   "id": "bf760203-88da-446e-9d40-5589a99b0c15",
   "metadata": {},
   "outputs": [],
   "source": [
    "import pandas as pd\n",
    "import pint\n",
    "import pint_pandas\n",
    "\n",
    "ureg = pint.UnitRegistry()\n",
    "\n",
    "dfA = pd.DataFrame({\n",
    "    \"x_pos\": pd.Series([-10., -10., -10., -10., -10.],\n",
    "                       dtype=pint_pandas.PintType(ureg.mm)),\n",
    "    \"y_pos\": pd.Series([-10., -15., -20., -25., -30.],\n",
    "                       dtype=pint_pandas.PintType(ureg.mm)),\n",
    "    \"a\":     pd.Series([8.7838, 8.7835, 8.7834, 8.7828, 8.7824],\n",
    "                       dtype=pint_pandas.PintType(ureg.angstrom)),\n",
    "})\n",
    "\n",
    "dfB = pd.DataFrame({\n",
    "    \"x_pos\": pd.Series([-10., -10., -10., -10., -10.],\n",
    "                       dtype=pint_pandas.PintType(ureg.mm)),\n",
    "    \"y_pos\": pd.Series([-10., -15., -20., -25., -30.],\n",
    "                       dtype=pint_pandas.PintType(ureg.mm)),\n",
    "    \"integral_abs_diff\": [1.17618, 1.17464, 1.15351, 1.20448, 1.10417],\n",
    "})\n",
    "\n",
    "M = pd.merge(dfA, dfB, on=[\"x_pos\", \"y_pos\"])"
   ]
  },
  {
   "cell_type": "code",
   "execution_count": 3,
   "id": "8dd083aa-c230-49d6-a5f5-09924b77659d",
   "metadata": {},
   "outputs": [
    {
     "data": {
      "text/plain": [
       "x_pos    pint[millimeter][Float64]\n",
       "y_pos    pint[millimeter][Float64]\n",
       "a          pint[angstrom][Float64]\n",
       "dtype: object"
      ]
     },
     "execution_count": 3,
     "metadata": {},
     "output_type": "execute_result"
    }
   ],
   "source": [
    "dfA.dtypes"
   ]
  },
  {
   "cell_type": "code",
   "execution_count": 4,
   "id": "7c4f3aa7-f6f1-47e5-8ddf-24fa568ad16b",
   "metadata": {},
   "outputs": [
    {
     "data": {
      "text/plain": [
       "x_pos                pint[millimeter][Float64]\n",
       "y_pos                pint[millimeter][Float64]\n",
       "a                      pint[angstrom][Float64]\n",
       "integral_abs_diff                      float64\n",
       "dtype: object"
      ]
     },
     "execution_count": 4,
     "metadata": {},
     "output_type": "execute_result"
    }
   ],
   "source": [
    "M.dtypes"
   ]
  },
  {
   "cell_type": "code",
   "execution_count": 5,
   "id": "2e501710-a5bf-466b-a504-fd85775927d5",
   "metadata": {},
   "outputs": [
    {
     "data": {
      "text/html": [
       "-50.0 millimeter"
      ],
      "text/latex": [
       "$-50.0\\ \\mathrm{millimeter}$"
      ],
      "text/plain": [
       "<Quantity(-50.0, 'millimeter')>"
      ]
     },
     "execution_count": 5,
     "metadata": {},
     "output_type": "execute_result"
    }
   ],
   "source": [
    "M['x_pos'].sum()"
   ]
  },
  {
   "cell_type": "code",
   "execution_count": null,
   "id": "88e18f17-62cf-4297-8f8d-9a5adec4aa48",
   "metadata": {},
   "outputs": [],
   "source": []
  }
 ],
 "metadata": {
  "kernelspec": {
   "display_name": "Python 3 (ipykernel)",
   "language": "python",
   "name": "python3"
  },
  "language_info": {
   "codemirror_mode": {
    "name": "ipython",
    "version": 3
   },
   "file_extension": ".py",
   "mimetype": "text/x-python",
   "name": "python",
   "nbconvert_exporter": "python",
   "pygments_lexer": "ipython3",
   "version": "3.14.0"
  }
 },
 "nbformat": 4,
 "nbformat_minor": 5
}
