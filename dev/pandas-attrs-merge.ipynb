{
 "cells": [
  {
   "cell_type": "code",
   "execution_count": 1,
   "id": "de4b590c-5b23-4c84-9940-f8cd057c3f23",
   "metadata": {},
   "outputs": [],
   "source": [
    "import pandas as pd\n",
    "import mammos_entity as me\n",
    "import mammos_units as u"
   ]
  },
  {
   "cell_type": "code",
   "execution_count": 2,
   "id": "cadb272d-6900-4c37-8b2a-7bfd5668794b",
   "metadata": {},
   "outputs": [],
   "source": [
    "me.io.entities_to_file(\n",
    "    \"A_export.csv\",\n",
    "    \"This file contains computed coercivites\",\n",
    "    x_pos=me.Entity(\"Length\", [-10., -10., -10., -10., -10.], \"mm\"),\n",
    "    y_pos=me.Entity(\"Length\", [-10., -15., -20., -25., -30.], \"mm\"),\n",
    "    a=me.Entity(\"LocalLatticeConstantA\", [8.7838, 8.7835, 8.7834, 8.7828, 8.7824], \"Angstrom\"),\n",
    "    c=me.Entity(\"LocalLatticeConstantC\", [12.1634, 12.1629, 12.1626, 12.1614, 12.1611], \"Angstrom\"),\n",
    "    volume=me.Entity(\"CellVolume\", [938.4688596, 938.3661812, 938.3216703, 938.1009148, 938.056412], \"Angstrom^3\"),\n",
    "    Ms=me.Ms([1205044.626, 1203469.633, 1202605.731, 1198792.8, 1197854.062]),\n",
    "    A=me.A([7.071954208, 7.053474008, 7.043351497, 6.998792402, 6.987851124], \"pJ/m\"),\n",
    "    K1=me.Ku([3.411298313, 3.388623141, 3.37627427, 3.3225042, 3.309445639], \"MJ/m3\"),\n",
    "    Ha=me.Entity(\"AnisotropyField\", [4505434.713046, 4481343.84430899, 4468220.34398305, 4411045.5691224, 4397151.94905576], \"A/m\"),\n",
    ")"
   ]
  },
  {
   "cell_type": "code",
   "execution_count": 3,
   "id": "1d248d58-03ef-472a-9d0f-afbb6be4fadc",
   "metadata": {},
   "outputs": [
    {
     "name": "stdout",
     "output_type": "stream",
     "text": [
      "#mammos csv v2\n",
      "#----------------------------------------\n",
      "# This file contains computed coercivites\n",
      "#----------------------------------------\n",
      "#Length,Length,LocalLatticeConstantA,LocalLatticeConstantC,CellVolume,SpontaneousMagnetization,ExchangeStiffnessConstant,UniaxialAnisotropyConstant,AnisotropyField\n",
      "#https://w3id.org/emmo#EMMO_cd2cd0de_e0cc_4ef1_b27e_2e88db027bac,https://w3id.org/emmo#EMMO_cd2cd0de_e0cc_4ef1_b27e_2e88db027bac,https://w3id.org/emmo/domain/magnetic_material#EMMO_c6ed4948-e599-5f09-aa07-b70121c41fcf,https://w3id.org/emmo/domain/magnetic_material#EMMO_dbb7c1bc-034f-5f4b-9329-d23ed8915961,https://w3id.org/emmo/domain/magnetic_material#EMMO_2b7f8b13-d0c3-590c-9851-ca89ce5b7395,https://w3id.org/emmo/domain/magnetic_material#EMMO_032731f8-874d-5efb-9c9d-6dafaa17ef25,https://w3id.org/emmo/domain/magnetic_material#EMMO_526ed2a5-a017-590e-8eb8-8a900f2b3b78,https://w3id.org/emmo/domain/magnetic_material#EMMO_49a882d1-9ce7-522b-91e7-3a460f25f5ac,https://w3id.org/emmo/domain/magnetic_material#EMMO_cd58ebab-4351-5d0d-ad45-bbddd6efead3\n",
      "#mm,mm,Angstrom,Angstrom,Angstrom3,A / m,pJ / m,MJ / m3,A / m\n",
      "x_pos,y_pos,a,c,volume,Ms,A,K1,Ha\n",
      "-10.0,-10.0,8.7838,12.1634,938.4688596,1205044.626,7.071954208,3.411298313,4505434.713046\n",
      "-10.0,-15.0,8.7835,12.1629,938.3661812,1203469.633,7.053474008,3.388623141,4481343.84430899\n",
      "-10.0,-20.0,8.7834,12.1626,938.3216703,1202605.731,7.043351497,3.37627427,4468220.34398305\n",
      "-10.0,-25.0,8.7828,12.1614,938.1009148,1198792.8,6.998792402,3.3225042,4411045.5691224\n",
      "-10.0,-30.0,8.7824,12.1611,938.056412,1197854.062,6.987851124,3.309445639,4397151.94905576\n"
     ]
    }
   ],
   "source": [
    "!cat A_export.csv"
   ]
  },
  {
   "cell_type": "code",
   "execution_count": 4,
   "id": "7d67e28a-c6cd-4ef8-8b00-4b38d2bf2138",
   "metadata": {},
   "outputs": [],
   "source": [
    "me.io.entities_to_file(\n",
    "    \"B.csv\",\n",
    "    \"Integral of Absolute Difference\",\n",
    "    x_pos=me.Entity(\"Length\", [-10., -10., -10., -10., -10.], \"mm\"),\n",
    "    y_pos=me.Entity(\"Length\", [-10., -15., -20., -25., -30.], \"mm\"),\n",
    "    integral_abs_diff=[1.176182592576099, 1.174635419947949, 1.1535128973539177, 1.204475631146945 ,1.1041682311364889]\n",
    ")"
   ]
  },
  {
   "cell_type": "code",
   "execution_count": 5,
   "id": "e5a34957-1b1a-4800-9f79-d3388e0caff2",
   "metadata": {},
   "outputs": [
    {
     "name": "stdout",
     "output_type": "stream",
     "text": [
      "#mammos csv v2\n",
      "#----------------------------------------\n",
      "# Integral of Absolute Difference\n",
      "#----------------------------------------\n",
      "#Length,Length,\n",
      "#https://w3id.org/emmo#EMMO_cd2cd0de_e0cc_4ef1_b27e_2e88db027bac,https://w3id.org/emmo#EMMO_cd2cd0de_e0cc_4ef1_b27e_2e88db027bac,\n",
      "#mm,mm,\n",
      "x_pos,y_pos,integral_abs_diff\n",
      "-10.0,-10.0,1.176182592576099\n",
      "-10.0,-15.0,1.174635419947949\n",
      "-10.0,-20.0,1.1535128973539177\n",
      "-10.0,-25.0,1.204475631146945\n",
      "-10.0,-30.0,1.1041682311364889\n"
     ]
    }
   ],
   "source": [
    "!cat B.csv"
   ]
  },
  {
   "cell_type": "code",
   "execution_count": 6,
   "id": "9a00090e-facf-4a30-99ee-e4bdeaec0fdc",
   "metadata": {},
   "outputs": [],
   "source": [
    "A_export = me.io.entities_from_file(\"A_export.csv\")"
   ]
  },
  {
   "cell_type": "code",
   "execution_count": 7,
   "id": "9c3db9d8-d830-4fc5-a1f5-4ea1ca922632",
   "metadata": {},
   "outputs": [],
   "source": [
    "A_export_df = A_export.to_dataframe()"
   ]
  },
  {
   "cell_type": "code",
   "execution_count": 8,
   "id": "32bae268-7b88-4413-bceb-a8f459b3273c",
   "metadata": {},
   "outputs": [],
   "source": [
    "B = me.io.entities_from_file(\"B.csv\")"
   ]
  },
  {
   "cell_type": "code",
   "execution_count": 9,
   "id": "62306559-5038-435b-b5e8-6cce64526b23",
   "metadata": {},
   "outputs": [],
   "source": [
    "B_df = B.to_dataframe()"
   ]
  },
  {
   "cell_type": "code",
   "execution_count": 10,
   "id": "20487301-d7ad-494f-a126-b9c4c81173b9",
   "metadata": {},
   "outputs": [
    {
     "data": {
      "text/html": [
       "<div>\n",
       "<style scoped>\n",
       "    .dataframe tbody tr th:only-of-type {\n",
       "        vertical-align: middle;\n",
       "    }\n",
       "\n",
       "    .dataframe tbody tr th {\n",
       "        vertical-align: top;\n",
       "    }\n",
       "\n",
       "    .dataframe thead th {\n",
       "        text-align: right;\n",
       "    }\n",
       "</style>\n",
       "<table border=\"1\" class=\"dataframe\">\n",
       "  <thead>\n",
       "    <tr style=\"text-align: right;\">\n",
       "      <th></th>\n",
       "      <th>x_pos (mm)</th>\n",
       "      <th>y_pos (mm)</th>\n",
       "      <th>a (Angstrom)</th>\n",
       "      <th>c (Angstrom)</th>\n",
       "      <th>volume (Angstrom3)</th>\n",
       "      <th>Ms (A / m)</th>\n",
       "      <th>A (pJ / m)</th>\n",
       "      <th>K1 (MJ / m3)</th>\n",
       "      <th>Ha (A / m)</th>\n",
       "    </tr>\n",
       "  </thead>\n",
       "  <tbody>\n",
       "    <tr>\n",
       "      <th>0</th>\n",
       "      <td>-10.0</td>\n",
       "      <td>-10.0</td>\n",
       "      <td>8.7838</td>\n",
       "      <td>12.1634</td>\n",
       "      <td>938.468860</td>\n",
       "      <td>1205044.626</td>\n",
       "      <td>7.071954</td>\n",
       "      <td>3.411298</td>\n",
       "      <td>4.505435e+06</td>\n",
       "    </tr>\n",
       "    <tr>\n",
       "      <th>1</th>\n",
       "      <td>-10.0</td>\n",
       "      <td>-15.0</td>\n",
       "      <td>8.7835</td>\n",
       "      <td>12.1629</td>\n",
       "      <td>938.366181</td>\n",
       "      <td>1203469.633</td>\n",
       "      <td>7.053474</td>\n",
       "      <td>3.388623</td>\n",
       "      <td>4.481344e+06</td>\n",
       "    </tr>\n",
       "    <tr>\n",
       "      <th>2</th>\n",
       "      <td>-10.0</td>\n",
       "      <td>-20.0</td>\n",
       "      <td>8.7834</td>\n",
       "      <td>12.1626</td>\n",
       "      <td>938.321670</td>\n",
       "      <td>1202605.731</td>\n",
       "      <td>7.043351</td>\n",
       "      <td>3.376274</td>\n",
       "      <td>4.468220e+06</td>\n",
       "    </tr>\n",
       "    <tr>\n",
       "      <th>3</th>\n",
       "      <td>-10.0</td>\n",
       "      <td>-25.0</td>\n",
       "      <td>8.7828</td>\n",
       "      <td>12.1614</td>\n",
       "      <td>938.100915</td>\n",
       "      <td>1198792.800</td>\n",
       "      <td>6.998792</td>\n",
       "      <td>3.322504</td>\n",
       "      <td>4.411046e+06</td>\n",
       "    </tr>\n",
       "    <tr>\n",
       "      <th>4</th>\n",
       "      <td>-10.0</td>\n",
       "      <td>-30.0</td>\n",
       "      <td>8.7824</td>\n",
       "      <td>12.1611</td>\n",
       "      <td>938.056412</td>\n",
       "      <td>1197854.062</td>\n",
       "      <td>6.987851</td>\n",
       "      <td>3.309446</td>\n",
       "      <td>4.397152e+06</td>\n",
       "    </tr>\n",
       "  </tbody>\n",
       "</table>\n",
       "</div>"
      ],
      "text/plain": [
       "   x_pos (mm)  y_pos (mm)  a (Angstrom)  c (Angstrom)  volume (Angstrom3)  \\\n",
       "0       -10.0       -10.0        8.7838       12.1634          938.468860   \n",
       "1       -10.0       -15.0        8.7835       12.1629          938.366181   \n",
       "2       -10.0       -20.0        8.7834       12.1626          938.321670   \n",
       "3       -10.0       -25.0        8.7828       12.1614          938.100915   \n",
       "4       -10.0       -30.0        8.7824       12.1611          938.056412   \n",
       "\n",
       "    Ms (A / m)  A (pJ / m)  K1 (MJ / m3)    Ha (A / m)  \n",
       "0  1205044.626    7.071954      3.411298  4.505435e+06  \n",
       "1  1203469.633    7.053474      3.388623  4.481344e+06  \n",
       "2  1202605.731    7.043351      3.376274  4.468220e+06  \n",
       "3  1198792.800    6.998792      3.322504  4.411046e+06  \n",
       "4  1197854.062    6.987851      3.309446  4.397152e+06  "
      ]
     },
     "execution_count": 10,
     "metadata": {},
     "output_type": "execute_result"
    }
   ],
   "source": [
    "A_export_df"
   ]
  },
  {
   "cell_type": "code",
   "execution_count": 11,
   "id": "7169557f-9c40-45c2-9291-fdaf356de04f",
   "metadata": {},
   "outputs": [
    {
     "data": {
      "text/html": [
       "<div>\n",
       "<style scoped>\n",
       "    .dataframe tbody tr th:only-of-type {\n",
       "        vertical-align: middle;\n",
       "    }\n",
       "\n",
       "    .dataframe tbody tr th {\n",
       "        vertical-align: top;\n",
       "    }\n",
       "\n",
       "    .dataframe thead th {\n",
       "        text-align: right;\n",
       "    }\n",
       "</style>\n",
       "<table border=\"1\" class=\"dataframe\">\n",
       "  <thead>\n",
       "    <tr style=\"text-align: right;\">\n",
       "      <th></th>\n",
       "      <th>x_pos (mm)</th>\n",
       "      <th>y_pos (mm)</th>\n",
       "      <th>integral_abs_diff</th>\n",
       "    </tr>\n",
       "  </thead>\n",
       "  <tbody>\n",
       "    <tr>\n",
       "      <th>0</th>\n",
       "      <td>-10.0</td>\n",
       "      <td>-10.0</td>\n",
       "      <td>1.176183</td>\n",
       "    </tr>\n",
       "    <tr>\n",
       "      <th>1</th>\n",
       "      <td>-10.0</td>\n",
       "      <td>-15.0</td>\n",
       "      <td>1.174635</td>\n",
       "    </tr>\n",
       "    <tr>\n",
       "      <th>2</th>\n",
       "      <td>-10.0</td>\n",
       "      <td>-20.0</td>\n",
       "      <td>1.153513</td>\n",
       "    </tr>\n",
       "    <tr>\n",
       "      <th>3</th>\n",
       "      <td>-10.0</td>\n",
       "      <td>-25.0</td>\n",
       "      <td>1.204476</td>\n",
       "    </tr>\n",
       "    <tr>\n",
       "      <th>4</th>\n",
       "      <td>-10.0</td>\n",
       "      <td>-30.0</td>\n",
       "      <td>1.104168</td>\n",
       "    </tr>\n",
       "  </tbody>\n",
       "</table>\n",
       "</div>"
      ],
      "text/plain": [
       "   x_pos (mm)  y_pos (mm)  integral_abs_diff\n",
       "0       -10.0       -10.0           1.176183\n",
       "1       -10.0       -15.0           1.174635\n",
       "2       -10.0       -20.0           1.153513\n",
       "3       -10.0       -25.0           1.204476\n",
       "4       -10.0       -30.0           1.104168"
      ]
     },
     "execution_count": 11,
     "metadata": {},
     "output_type": "execute_result"
    }
   ],
   "source": [
    "B_df"
   ]
  },
  {
   "cell_type": "code",
   "execution_count": 12,
   "id": "e1c8d4a1-67d1-448b-8145-808476231d89",
   "metadata": {},
   "outputs": [
    {
     "data": {
      "text/html": [
       "<div>\n",
       "<style scoped>\n",
       "    .dataframe tbody tr th:only-of-type {\n",
       "        vertical-align: middle;\n",
       "    }\n",
       "\n",
       "    .dataframe tbody tr th {\n",
       "        vertical-align: top;\n",
       "    }\n",
       "\n",
       "    .dataframe thead th {\n",
       "        text-align: right;\n",
       "    }\n",
       "</style>\n",
       "<table border=\"1\" class=\"dataframe\">\n",
       "  <thead>\n",
       "    <tr style=\"text-align: right;\">\n",
       "      <th></th>\n",
       "      <th>x_pos (mm)</th>\n",
       "      <th>y_pos (mm)</th>\n",
       "      <th>a (Angstrom)</th>\n",
       "      <th>c (Angstrom)</th>\n",
       "      <th>volume (Angstrom3)</th>\n",
       "      <th>Ms (A / m)</th>\n",
       "      <th>A (pJ / m)</th>\n",
       "      <th>K1 (MJ / m3)</th>\n",
       "      <th>Ha (A / m)</th>\n",
       "      <th>integral_abs_diff</th>\n",
       "    </tr>\n",
       "  </thead>\n",
       "  <tbody>\n",
       "    <tr>\n",
       "      <th>0</th>\n",
       "      <td>-10.0</td>\n",
       "      <td>-10.0</td>\n",
       "      <td>8.7838</td>\n",
       "      <td>12.1634</td>\n",
       "      <td>938.468860</td>\n",
       "      <td>1205044.626</td>\n",
       "      <td>7.071954</td>\n",
       "      <td>3.411298</td>\n",
       "      <td>4.505435e+06</td>\n",
       "      <td>1.176183</td>\n",
       "    </tr>\n",
       "    <tr>\n",
       "      <th>1</th>\n",
       "      <td>-10.0</td>\n",
       "      <td>-15.0</td>\n",
       "      <td>8.7835</td>\n",
       "      <td>12.1629</td>\n",
       "      <td>938.366181</td>\n",
       "      <td>1203469.633</td>\n",
       "      <td>7.053474</td>\n",
       "      <td>3.388623</td>\n",
       "      <td>4.481344e+06</td>\n",
       "      <td>1.174635</td>\n",
       "    </tr>\n",
       "    <tr>\n",
       "      <th>2</th>\n",
       "      <td>-10.0</td>\n",
       "      <td>-20.0</td>\n",
       "      <td>8.7834</td>\n",
       "      <td>12.1626</td>\n",
       "      <td>938.321670</td>\n",
       "      <td>1202605.731</td>\n",
       "      <td>7.043351</td>\n",
       "      <td>3.376274</td>\n",
       "      <td>4.468220e+06</td>\n",
       "      <td>1.153513</td>\n",
       "    </tr>\n",
       "    <tr>\n",
       "      <th>3</th>\n",
       "      <td>-10.0</td>\n",
       "      <td>-25.0</td>\n",
       "      <td>8.7828</td>\n",
       "      <td>12.1614</td>\n",
       "      <td>938.100915</td>\n",
       "      <td>1198792.800</td>\n",
       "      <td>6.998792</td>\n",
       "      <td>3.322504</td>\n",
       "      <td>4.411046e+06</td>\n",
       "      <td>1.204476</td>\n",
       "    </tr>\n",
       "    <tr>\n",
       "      <th>4</th>\n",
       "      <td>-10.0</td>\n",
       "      <td>-30.0</td>\n",
       "      <td>8.7824</td>\n",
       "      <td>12.1611</td>\n",
       "      <td>938.056412</td>\n",
       "      <td>1197854.062</td>\n",
       "      <td>6.987851</td>\n",
       "      <td>3.309446</td>\n",
       "      <td>4.397152e+06</td>\n",
       "      <td>1.104168</td>\n",
       "    </tr>\n",
       "  </tbody>\n",
       "</table>\n",
       "</div>"
      ],
      "text/plain": [
       "   x_pos (mm)  y_pos (mm)  a (Angstrom)  c (Angstrom)  volume (Angstrom3)  \\\n",
       "0       -10.0       -10.0        8.7838       12.1634          938.468860   \n",
       "1       -10.0       -15.0        8.7835       12.1629          938.366181   \n",
       "2       -10.0       -20.0        8.7834       12.1626          938.321670   \n",
       "3       -10.0       -25.0        8.7828       12.1614          938.100915   \n",
       "4       -10.0       -30.0        8.7824       12.1611          938.056412   \n",
       "\n",
       "    Ms (A / m)  A (pJ / m)  K1 (MJ / m3)    Ha (A / m)  integral_abs_diff  \n",
       "0  1205044.626    7.071954      3.411298  4.505435e+06           1.176183  \n",
       "1  1203469.633    7.053474      3.388623  4.481344e+06           1.174635  \n",
       "2  1202605.731    7.043351      3.376274  4.468220e+06           1.153513  \n",
       "3  1198792.800    6.998792      3.322504  4.411046e+06           1.204476  \n",
       "4  1197854.062    6.987851      3.309446  4.397152e+06           1.104168  "
      ]
     },
     "execution_count": 12,
     "metadata": {},
     "output_type": "execute_result"
    }
   ],
   "source": [
    "pd.merge(A_export_df, B_df)"
   ]
  },
  {
   "cell_type": "code",
   "execution_count": 13,
   "id": "cbe96599-68d4-4826-a1b2-d44ac533db51",
   "metadata": {},
   "outputs": [],
   "source": [
    "A_export_df[\"x_pos (mm)\"].attrs = {\"unit\": \"mm\"}\n",
    "A_export_df[\"y_pos (mm)\"].attrs = {\"unit\": \"mm\"}\n",
    "A_export_df[\"a (Angstrom)\"].attrs = {\"unit\": \"Angstrom\"}\n",
    "A_export_df[\"c (Angstrom)\"].attrs = {\"unit\": \"Angstrom\"}\n",
    "A_export_df[\"volume (Angstrom3)\"].attrs = {\"unit\": \"Angstrom3\"}\n",
    "A_export_df[\"Ms (A / m)\"].attrs = {\"unit\": \"A/m\"}\n",
    "A_export_df[\"A (pJ / m)\"].attrs = {\"unit\": \"pJ/m\"}\n",
    "A_export_df[\"K1 (MJ / m3)\"].attrs = {\"unit\": \"MJ/m3\"}\n",
    "A_export_df[\"Ha (A / m)\"].attrs = {\"unit\": \"A/m\"}"
   ]
  },
  {
   "cell_type": "code",
   "execution_count": 14,
   "id": "374aae3e-b649-41be-b66c-55381d84eac0",
   "metadata": {},
   "outputs": [],
   "source": [
    "A_export_df.attrs[\"description\"] = \"This file contains computed coercivites\""
   ]
  },
  {
   "cell_type": "code",
   "execution_count": 15,
   "id": "747aedac-0531-477d-bc42-9210200047d8",
   "metadata": {},
   "outputs": [
    {
     "data": {
      "text/plain": [
       "{'description': 'This file contains computed coercivites'}"
      ]
     },
     "execution_count": 15,
     "metadata": {},
     "output_type": "execute_result"
    }
   ],
   "source": [
    "A_export_df.attrs"
   ]
  },
  {
   "cell_type": "code",
   "execution_count": 16,
   "id": "057af4d6-22be-41c2-ac8a-4882842ef4b8",
   "metadata": {},
   "outputs": [
    {
     "name": "stdout",
     "output_type": "stream",
     "text": [
      "x_pos (mm) attributes are:  {'unit': 'mm'}\n",
      "y_pos (mm) attributes are:  {'unit': 'mm'}\n",
      "a (Angstrom) attributes are:  {'unit': 'Angstrom'}\n",
      "c (Angstrom) attributes are:  {'unit': 'Angstrom'}\n",
      "volume (Angstrom3) attributes are:  {'unit': 'Angstrom3'}\n",
      "Ms (A / m) attributes are:  {'unit': 'A/m'}\n",
      "A (pJ / m) attributes are:  {'unit': 'pJ/m'}\n",
      "K1 (MJ / m3) attributes are:  {'unit': 'MJ/m3'}\n",
      "Ha (A / m) attributes are:  {'unit': 'A/m'}\n"
     ]
    }
   ],
   "source": [
    "for col in A_export_df:\n",
    "    print(f\"{col} attributes are: \", A_export_df[f\"{col}\"].attrs)"
   ]
  },
  {
   "cell_type": "code",
   "execution_count": 17,
   "id": "76758b89-7642-4fed-9389-596a85996d25",
   "metadata": {},
   "outputs": [],
   "source": [
    "B_df[\"x_pos (mm)\"].attrs = {\"unit\": \"mm\"}\n",
    "B_df[\"y_pos (mm)\"].attrs = {\"unit\": \"mm\"}\n",
    "B_df.attrs[\"description\"] = \"Integral of Absolute Difference\""
   ]
  },
  {
   "cell_type": "code",
   "execution_count": 18,
   "id": "9e320e65-f8fc-4218-8ff3-7d34163a53d9",
   "metadata": {},
   "outputs": [
    {
     "data": {
      "text/plain": [
       "{'description': 'Integral of Absolute Difference'}"
      ]
     },
     "execution_count": 18,
     "metadata": {},
     "output_type": "execute_result"
    }
   ],
   "source": [
    "B_df.attrs"
   ]
  },
  {
   "cell_type": "code",
   "execution_count": 19,
   "id": "c36b1710-4d4a-455c-9d8c-98af5790bb4a",
   "metadata": {},
   "outputs": [
    {
     "name": "stdout",
     "output_type": "stream",
     "text": [
      "x_pos (mm) attributes are:  {'unit': 'mm'}\n",
      "y_pos (mm) attributes are:  {'unit': 'mm'}\n",
      "integral_abs_diff attributes are:  {'description': 'Integral of Absolute Difference'}\n"
     ]
    }
   ],
   "source": [
    "for col in B_df:\n",
    "    print(f\"{col} attributes are: \", B_df[f\"{col}\"].attrs)"
   ]
  },
  {
   "cell_type": "code",
   "execution_count": 20,
   "id": "645da087-efca-4f6b-8c86-9609e4cced21",
   "metadata": {},
   "outputs": [],
   "source": [
    "M = pd.merge(A_export_df, B_df)"
   ]
  },
  {
   "cell_type": "code",
   "execution_count": 21,
   "id": "0bd9b624-fb84-4898-9fa8-73414a52c63c",
   "metadata": {},
   "outputs": [
    {
     "data": {
      "text/plain": [
       "{}"
      ]
     },
     "execution_count": 21,
     "metadata": {},
     "output_type": "execute_result"
    }
   ],
   "source": [
    "M.attrs"
   ]
  },
  {
   "cell_type": "code",
   "execution_count": 22,
   "id": "f3eda2eb-6d2a-47d0-8ac2-a25b57a724ae",
   "metadata": {},
   "outputs": [
    {
     "name": "stdout",
     "output_type": "stream",
     "text": [
      "x_pos (mm) attributes are:  {}\n",
      "y_pos (mm) attributes are:  {}\n",
      "a (Angstrom) attributes are:  {}\n",
      "c (Angstrom) attributes are:  {}\n",
      "volume (Angstrom3) attributes are:  {}\n",
      "Ms (A / m) attributes are:  {}\n",
      "A (pJ / m) attributes are:  {}\n",
      "K1 (MJ / m3) attributes are:  {}\n",
      "Ha (A / m) attributes are:  {}\n",
      "integral_abs_diff attributes are:  {}\n"
     ]
    }
   ],
   "source": [
    "for col in M:\n",
    "    print(f\"{col} attributes are: \", M[f\"{col}\"].attrs)"
   ]
  }
 ],
 "metadata": {
  "kernelspec": {
   "display_name": "Python 3 (ipykernel)",
   "language": "python",
   "name": "python3"
  },
  "language_info": {
   "codemirror_mode": {
    "name": "ipython",
    "version": 3
   },
   "file_extension": ".py",
   "mimetype": "text/x-python",
   "name": "python",
   "nbconvert_exporter": "python",
   "pygments_lexer": "ipython3",
   "version": "3.11.0"
  }
 },
 "nbformat": 4,
 "nbformat_minor": 5
}
