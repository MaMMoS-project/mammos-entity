{
 "cells": [
  {
   "cell_type": "markdown",
   "id": "67f4c884-41ea-42fa-b645-8036440fa5c9",
   "metadata": {},
   "source": [
    "# `mammos_entity.io`: reading and writing entities"
   ]
  },
  {
   "cell_type": "code",
   "execution_count": 1,
   "id": "d6836737-77d8-484b-ae9e-d0734ded6006",
   "metadata": {},
   "outputs": [],
   "source": [
    "import mammos_entity as me\n",
    "import mammos_units as u"
   ]
  },
  {
   "cell_type": "markdown",
   "id": "33d3fe30-d45e-40c1-b08b-dbaa40da6520",
   "metadata": {},
   "source": [
    "## Supported file format\n",
    "\n",
    "`mammos_entity.io` can read and write csv files containing entity like objects in tabluar format.\n",
    "\n",
    "The file is structured as follows:\n",
    "- The first line is commented and contains the preferred ontology label.\n",
    "- The second line is commented and contains the ontology IRI.\n",
    "- The third line is commented and contains units.\n",
    "- The fourth line contains short labels used to refer to individual columns when working with the data, e.g. in a `pandas` dataframe. Omitting spaces in this string is advisable.  \n",
    "  Ideally this string is the short ontology label.\n",
    "- All remaining lines contain data.\n",
    "- Comment lines start with a # as first character. Inline comments are not supported.\n",
    "\n",
    "If a column has no ontology entry lines 1 and 2 are empty for this column.\n",
    "\n",
    "If a column has no units (with or without ontology entry) row 3 has no entry for this\n",
    "column.\n",
    "\n",
    "Here is an example with four columns:\n",
    "- an index with no units or ontology label\n",
    "- spontaneous magnetization from the ontology\n",
    "- a made-up quantity alpha with a unit but no ontology\n",
    "- demagnetizing factor with an ontology entry but no unit.\n",
    "\n",
    "To keep this example short the actual IRIs are omitted:\n",
    "\n",
    "```\n",
    "#,SpontaneousMagnetization,,DemagnetizingFactor\n",
    "#,https://w3id.org/emm/...,,https://w3id.org/emmo/...\n",
    "#,kA/m,s^2,\n",
    "index,Ms,alpha,DemagnetizingFactor\n",
    "0,1e5,1.2,1\n",
    "1,1e5,3.4,0.5\n",
    "2,1e5,5.6,0.5\n",
    "```"
   ]
  },
  {
   "attachments": {},
   "cell_type": "markdown",
   "id": "746f6f05-845a-48f1-abe2-7681c0eecfda",
   "metadata": {},
   "source": [
    "## Example\n",
    "\n",
    "We create some artificial data to write to a csv file."
   ]
  },
  {
   "cell_type": "code",
   "execution_count": 2,
   "id": "cd1c55d1-3ddf-4c5f-9fac-de4e7a339a5a",
   "metadata": {},
   "outputs": [],
   "source": [
    "Ms = me.Ms([1e6, 2e6, 3e6])\n",
    "T = me.T([1, 2, 3])\n",
    "theta_angle = [0, 0.5, 0.7] * u.rad\n",
    "demag_factor = me.Entity(\"DemagnetizingFactor\", [1 / 3, 1 / 3, 1 / 3])\n",
    "comments = [\"Some comment\", \"Some other comment\", \"A third comment\"]"
   ]
  },
  {
   "cell_type": "markdown",
   "id": "4ff1cc71-aea9-4a53-be4c-a2beee0367e4",
   "metadata": {},
   "source": [
    "### Writing\n",
    "We can write them to a csv file as shown in the following cell. Names of the keyword arguments determine column names in the file."
   ]
  },
  {
   "cell_type": "code",
   "execution_count": 3,
   "id": "60d3cadf-d780-49e9-97df-3e9a28806803",
   "metadata": {},
   "outputs": [],
   "source": [
    "me.io.entities_to_csv(\"example.csv\", Ms=Ms, T=T, angle=theta_angle, demag_factor=demag_factor, comment=comments)"
   ]
  },
  {
   "cell_type": "markdown",
   "id": "51125d87-9b81-4ab1-8780-1ef2c1a6f344",
   "metadata": {},
   "source": [
    "This has produced the following file:"
   ]
  },
  {
   "cell_type": "code",
   "execution_count": 4,
   "id": "3e980ad9-ea3b-4eae-879d-c3c9a0fb07f0",
   "metadata": {},
   "outputs": [
    {
     "name": "stdout",
     "output_type": "stream",
     "text": [
      "#SpontaneousMagnetization,ThermodynamicTemperature,,DemagnetizingFactor,\n",
      "#https://w3id.org/emmo/domain/magnetic_material#EMMO_032731f8-874d-5efb-9c9d-6dafaa17ef25,https://w3id.org/emmo#EMMO_affe07e4_e9bc_4852_86c6_69e26182a17f,,https://w3id.org/emmo/domain/magnetic_material#EMMO_0f2b5cc9-d00a-5030-8448-99ba6b7dfd1e,\n",
      "#A / m,K,rad,,\n",
      "Ms,T,angle,demag_factor,comment\n",
      "1000000.0,1.0,0.0,0.3333333333333333,Some comment\n",
      "2000000.0,2.0,0.5,0.3333333333333333,Some other comment\n",
      "3000000.0,3.0,0.7,0.3333333333333333,A third comment\n",
      "\n"
     ]
    }
   ],
   "source": [
    "print(open(\"example.csv\").read())  # noqa: SIM115"
   ]
  },
  {
   "cell_type": "markdown",
   "id": "07ac51d4-9f89-4c41-945b-2701e04e857b",
   "metadata": {},
   "source": [
    "### Reading\n",
    "We can read it back in and get a container object (called EntityCollection) containing all columns:"
   ]
  },
  {
   "cell_type": "code",
   "execution_count": 5,
   "id": "ab4a4963-37a3-4578-8a8e-14817582ebc7",
   "metadata": {},
   "outputs": [
    {
     "data": {
      "text/plain": [
       "EntityCollection(\n",
       "    Ms=Entity(ontology_label='SpontaneousMagnetization', value=array([1000000., 2000000., 3000000.]), unit='A / m'),\n",
       "    T=Entity(ontology_label='ThermodynamicTemperature', value=array([1., 2., 3.]), unit='K'),\n",
       "    angle=<Quantity [0. , 0.5, 0.7] rad>,\n",
       "    demag_factor=Entity(ontology_label='DemagnetizingFactor', value=array([0.33333333, 0.33333333, 0.33333333])),\n",
       "    comment=array(['Some comment', 'Some other comment', 'A third comment'],\n",
       "      dtype=object),\n",
       ")"
      ]
     },
     "execution_count": 5,
     "metadata": {},
     "output_type": "execute_result"
    }
   ],
   "source": [
    "content = me.io.entities_from_csv(\"example.csv\")\n",
    "content"
   ]
  },
  {
   "cell_type": "markdown",
   "id": "265ba969-11e0-4a18-83d0-cfb9481fc720",
   "metadata": {},
   "source": [
    "We can access the individual elements:"
   ]
  },
  {
   "cell_type": "code",
   "execution_count": 6,
   "id": "e2a554bd-019c-480f-aa73-0aaad7a85814",
   "metadata": {},
   "outputs": [
    {
     "data": {
      "text/html": [
       "<samp>SpontaneousMagnetization(value=[1000000.&nbsp;2000000.&nbsp;3000000.],&nbsp;unit=A&nbsp;/&nbsp;m)</samp>"
      ],
      "text/plain": [
       "Entity(ontology_label='SpontaneousMagnetization', value=array([1000000., 2000000., 3000000.]), unit='A / m')"
      ]
     },
     "execution_count": 6,
     "metadata": {},
     "output_type": "execute_result"
    }
   ],
   "source": [
    "content.Ms"
   ]
  },
  {
   "cell_type": "code",
   "execution_count": 7,
   "id": "832726e7-6ef6-4dc1-a10e-db5f276e9b13",
   "metadata": {},
   "outputs": [
    {
     "data": {
      "text/html": [
       "<samp>ThermodynamicTemperature(value=[1.&nbsp;2.&nbsp;3.],&nbsp;unit=K)</samp>"
      ],
      "text/plain": [
       "Entity(ontology_label='ThermodynamicTemperature', value=array([1., 2., 3.]), unit='K')"
      ]
     },
     "execution_count": 7,
     "metadata": {},
     "output_type": "execute_result"
    }
   ],
   "source": [
    "content.T"
   ]
  },
  {
   "cell_type": "code",
   "execution_count": 8,
   "id": "a351e990-c482-4257-902c-e59e914b2dda",
   "metadata": {},
   "outputs": [
    {
     "data": {
      "text/latex": [
       "$[0,~0.5,~0.7] \\; \\mathrm{rad}$"
      ],
      "text/plain": [
       "<Quantity [0. , 0.5, 0.7] rad>"
      ]
     },
     "execution_count": 8,
     "metadata": {},
     "output_type": "execute_result"
    }
   ],
   "source": [
    "content.angle"
   ]
  },
  {
   "cell_type": "code",
   "execution_count": 9,
   "id": "525ae2fa-2aaf-4e51-ba47-a064e75c685a",
   "metadata": {},
   "outputs": [
    {
     "data": {
      "text/html": [
       "<samp>DemagnetizingFactor(value=[0.33333333&nbsp;0.33333333&nbsp;0.33333333])</samp>"
      ],
      "text/plain": [
       "Entity(ontology_label='DemagnetizingFactor', value=array([0.33333333, 0.33333333, 0.33333333]))"
      ]
     },
     "execution_count": 9,
     "metadata": {},
     "output_type": "execute_result"
    }
   ],
   "source": [
    "content.demag_factor"
   ]
  },
  {
   "cell_type": "code",
   "execution_count": 10,
   "id": "2ac4ce79-5cd0-4686-9cfa-bc672feb052c",
   "metadata": {},
   "outputs": [
    {
     "data": {
      "text/plain": [
       "array(['Some comment', 'Some other comment', 'A third comment'],\n",
       "      dtype=object)"
      ]
     },
     "execution_count": 10,
     "metadata": {},
     "output_type": "execute_result"
    }
   ],
   "source": [
    "content.comment"
   ]
  },
  {
   "cell_type": "markdown",
   "id": "a743204c-9a90-4ef3-9b93-d0605b1ff4dc",
   "metadata": {},
   "source": [
    "We can also get a `pandas` dataframe of the data we have read:"
   ]
  },
  {
   "cell_type": "code",
   "execution_count": 11,
   "id": "ba862c9b-e4c9-45ba-b7db-ecdde7cb7577",
   "metadata": {},
   "outputs": [
    {
     "data": {
      "text/html": [
       "<div>\n",
       "<style scoped>\n",
       "    .dataframe tbody tr th:only-of-type {\n",
       "        vertical-align: middle;\n",
       "    }\n",
       "\n",
       "    .dataframe tbody tr th {\n",
       "        vertical-align: top;\n",
       "    }\n",
       "\n",
       "    .dataframe thead th {\n",
       "        text-align: right;\n",
       "    }\n",
       "</style>\n",
       "<table border=\"1\" class=\"dataframe\">\n",
       "  <thead>\n",
       "    <tr style=\"text-align: right;\">\n",
       "      <th></th>\n",
       "      <th>Ms</th>\n",
       "      <th>T</th>\n",
       "      <th>angle</th>\n",
       "      <th>demag_factor</th>\n",
       "      <th>comment</th>\n",
       "    </tr>\n",
       "  </thead>\n",
       "  <tbody>\n",
       "    <tr>\n",
       "      <th>0</th>\n",
       "      <td>1000000.0</td>\n",
       "      <td>1.0</td>\n",
       "      <td>0.0</td>\n",
       "      <td>0.333333</td>\n",
       "      <td>Some comment</td>\n",
       "    </tr>\n",
       "    <tr>\n",
       "      <th>1</th>\n",
       "      <td>2000000.0</td>\n",
       "      <td>2.0</td>\n",
       "      <td>0.5</td>\n",
       "      <td>0.333333</td>\n",
       "      <td>Some other comment</td>\n",
       "    </tr>\n",
       "    <tr>\n",
       "      <th>2</th>\n",
       "      <td>3000000.0</td>\n",
       "      <td>3.0</td>\n",
       "      <td>0.7</td>\n",
       "      <td>0.333333</td>\n",
       "      <td>A third comment</td>\n",
       "    </tr>\n",
       "  </tbody>\n",
       "</table>\n",
       "</div>"
      ],
      "text/plain": [
       "          Ms    T  angle  demag_factor             comment\n",
       "0  1000000.0  1.0    0.0      0.333333        Some comment\n",
       "1  2000000.0  2.0    0.5      0.333333  Some other comment\n",
       "2  3000000.0  3.0    0.7      0.333333     A third comment"
      ]
     },
     "execution_count": 11,
     "metadata": {},
     "output_type": "execute_result"
    }
   ],
   "source": [
    "content.to_dataframe()"
   ]
  },
  {
   "cell_type": "markdown",
   "id": "04130d1a-72eb-4ec1-8959-2e9f66f3e506",
   "metadata": {},
   "source": [
    "### Reading with `pandas`\n",
    "If we only need the numerical data but not the entity information, we can also read the csv file with pandas:"
   ]
  },
  {
   "cell_type": "code",
   "execution_count": 12,
   "id": "5ef931e0-1f90-4920-92ee-ec37a1c76577",
   "metadata": {},
   "outputs": [
    {
     "data": {
      "text/html": [
       "<div>\n",
       "<style scoped>\n",
       "    .dataframe tbody tr th:only-of-type {\n",
       "        vertical-align: middle;\n",
       "    }\n",
       "\n",
       "    .dataframe tbody tr th {\n",
       "        vertical-align: top;\n",
       "    }\n",
       "\n",
       "    .dataframe thead th {\n",
       "        text-align: right;\n",
       "    }\n",
       "</style>\n",
       "<table border=\"1\" class=\"dataframe\">\n",
       "  <thead>\n",
       "    <tr style=\"text-align: right;\">\n",
       "      <th></th>\n",
       "      <th>Ms</th>\n",
       "      <th>T</th>\n",
       "      <th>angle</th>\n",
       "      <th>demag_factor</th>\n",
       "      <th>comment</th>\n",
       "    </tr>\n",
       "  </thead>\n",
       "  <tbody>\n",
       "    <tr>\n",
       "      <th>0</th>\n",
       "      <td>1000000.0</td>\n",
       "      <td>1.0</td>\n",
       "      <td>0.0</td>\n",
       "      <td>0.333333</td>\n",
       "      <td>Some comment</td>\n",
       "    </tr>\n",
       "    <tr>\n",
       "      <th>1</th>\n",
       "      <td>2000000.0</td>\n",
       "      <td>2.0</td>\n",
       "      <td>0.5</td>\n",
       "      <td>0.333333</td>\n",
       "      <td>Some other comment</td>\n",
       "    </tr>\n",
       "    <tr>\n",
       "      <th>2</th>\n",
       "      <td>3000000.0</td>\n",
       "      <td>3.0</td>\n",
       "      <td>0.7</td>\n",
       "      <td>0.333333</td>\n",
       "      <td>A third comment</td>\n",
       "    </tr>\n",
       "  </tbody>\n",
       "</table>\n",
       "</div>"
      ],
      "text/plain": [
       "          Ms    T  angle  demag_factor             comment\n",
       "0  1000000.0  1.0    0.0      0.333333        Some comment\n",
       "1  2000000.0  2.0    0.5      0.333333  Some other comment\n",
       "2  3000000.0  3.0    0.7      0.333333     A third comment"
      ]
     },
     "execution_count": 12,
     "metadata": {},
     "output_type": "execute_result"
    }
   ],
   "source": [
    "import pandas as pd\n",
    "\n",
    "pd.read_csv(\"example.csv\", comment=\"#\")"
   ]
  },
  {
   "cell_type": "markdown",
   "id": "804f7c5a-7a2e-4b3b-b4a1-be97e4f83aa4",
   "metadata": {},
   "source": [
    "### Check that data has not changed\n",
    "We can compare with the original data:"
   ]
  },
  {
   "cell_type": "code",
   "execution_count": 13,
   "id": "5e38ad5a-7186-4f3b-8acd-d7486a900dc8",
   "metadata": {},
   "outputs": [
    {
     "data": {
      "text/plain": [
       "True"
      ]
     },
     "execution_count": 13,
     "metadata": {},
     "output_type": "execute_result"
    }
   ],
   "source": [
    "Ms == content.Ms"
   ]
  },
  {
   "cell_type": "code",
   "execution_count": 14,
   "id": "db7d8147-f50a-4ade-82d1-d7143c077141",
   "metadata": {},
   "outputs": [
    {
     "data": {
      "text/plain": [
       "True"
      ]
     },
     "execution_count": 14,
     "metadata": {},
     "output_type": "execute_result"
    }
   ],
   "source": [
    "T == content.T"
   ]
  },
  {
   "cell_type": "code",
   "execution_count": 15,
   "id": "3d42a6d1-f51a-4949-b713-de3bc08472ef",
   "metadata": {},
   "outputs": [
    {
     "data": {
      "text/plain": [
       "array([ True,  True,  True])"
      ]
     },
     "execution_count": 15,
     "metadata": {},
     "output_type": "execute_result"
    }
   ],
   "source": [
    "theta_angle == content.angle"
   ]
  },
  {
   "cell_type": "code",
   "execution_count": 16,
   "id": "f3a81c79-29a6-4448-9124-b89c73cb4dc9",
   "metadata": {},
   "outputs": [
    {
     "data": {
      "text/plain": [
       "True"
      ]
     },
     "execution_count": 16,
     "metadata": {},
     "output_type": "execute_result"
    }
   ],
   "source": [
    "demag_factor == content.demag_factor"
   ]
  },
  {
   "cell_type": "code",
   "execution_count": 17,
   "id": "eef8a760-2060-47ff-a823-b49b7d5df6df",
   "metadata": {},
   "outputs": [
    {
     "data": {
      "text/plain": [
       "array([ True,  True,  True])"
      ]
     },
     "execution_count": 17,
     "metadata": {},
     "output_type": "execute_result"
    }
   ],
   "source": [
    "comments == content.comment"
   ]
  },
  {
   "cell_type": "markdown",
   "id": "e3ad92a6-452f-42e8-9ea0-66a36c6ae771",
   "metadata": {},
   "source": [
    "# FAQ: Converting unformatted csv files and tables\n",
    "\n",
    "The syntax of the csv file readable in this setting is very strict. Reading csv or other tabular files written in the wrong format require some extra steps."
   ]
  },
  {
   "cell_type": "markdown",
   "id": "9ed6e661-63c6-479d-b318-6a3411abe22b",
   "metadata": {},
   "source": [
    "## If the file can be read using `pandas`"
   ]
  },
  {
   "cell_type": "markdown",
   "id": "e0058689-a706-43dd-bc7c-3633de9c6946",
   "metadata": {},
   "source": [
    "Let's assume that the we want to read a hysteresis loop written in a `dat` file with this structure:\n",
    "```dat\n",
    "1 10.0 1.6083568305976572 -16778187.088808443\n",
    "1 9.0 1.6083393931987826 -15498304.121589921\n",
    "1 8.0 1.6083184361075116 -14218436.37373519\n",
    "1 7.0 1.608292941666901 -12938587.029585946\n",
    "1 6.0 1.6082614950059932 -11658760.230932372\n",
    "1 5.0 1.608222081883206 -10378961.467100028\n",
    "1 4.0 1.6081717550468129 -9099198.173237378\n",
    "1 3.0 1.6081060612831548 -7819480.6795090465\n",
    "1 2.0 1.6080180098704495 -6539823.778270881\n",
    "1 1.0 1.6078961072484168 -5260249.438047437\n",
    "1 0.0 1.6077203434898446 -3980791.785582987\n",
    "1 -1.0 1.6074532481818082 -2701506.9443550394\n",
    "1 -2.0 1.6070175560418265 -1422494.3948380197\n",
    "1 -3.0 1.6062307607212265 -143949.74970698575\n",
    "1 -4.0 1.604561953357357 1133677.3737576925\n",
    "1 -5.0 1.5997253356028722 2409024.642323177\n",
    "2 -6.0 -1.608261495186274 -11658760.230930354\n",
    "```\n",
    "where the user knows that the first column is the configuration type, the second column is the value of $\\mu_0 H_{\\mathsf{ext}}$ in Tesla, the third column is the magnetic polarisation in Tesla and the last column is the energy density in J/m$^3$.\n",
    "\n",
    "In particular, we observe no headers and the use of the space as separator rather than a comma."
   ]
  },
  {
   "cell_type": "code",
   "execution_count": 18,
   "id": "2b318ceb-5760-4e23-b7e6-e04868b47664",
   "metadata": {},
   "outputs": [],
   "source": [
    "import pandas as pd"
   ]
  },
  {
   "cell_type": "markdown",
   "id": "353fad2a-f4df-4929-83f3-2ebd2819aa24",
   "metadata": {},
   "source": [
    "Let us read this file via `pandas`:"
   ]
  },
  {
   "cell_type": "code",
   "execution_count": 19,
   "id": "206d5b7d-8b74-4609-aa17-5abbda02b620",
   "metadata": {},
   "outputs": [
    {
     "data": {
      "text/html": [
       "<div>\n",
       "<style scoped>\n",
       "    .dataframe tbody tr th:only-of-type {\n",
       "        vertical-align: middle;\n",
       "    }\n",
       "\n",
       "    .dataframe tbody tr th {\n",
       "        vertical-align: top;\n",
       "    }\n",
       "\n",
       "    .dataframe thead th {\n",
       "        text-align: right;\n",
       "    }\n",
       "</style>\n",
       "<table border=\"1\" class=\"dataframe\">\n",
       "  <thead>\n",
       "    <tr style=\"text-align: right;\">\n",
       "      <th></th>\n",
       "      <th>configuration_type</th>\n",
       "      <th>mu0_Hext</th>\n",
       "      <th>Js</th>\n",
       "      <th>energy_density</th>\n",
       "    </tr>\n",
       "  </thead>\n",
       "  <tbody>\n",
       "    <tr>\n",
       "      <th>0</th>\n",
       "      <td>1</td>\n",
       "      <td>10.0</td>\n",
       "      <td>1.608357</td>\n",
       "      <td>-1.677819e+07</td>\n",
       "    </tr>\n",
       "    <tr>\n",
       "      <th>1</th>\n",
       "      <td>1</td>\n",
       "      <td>9.0</td>\n",
       "      <td>1.608339</td>\n",
       "      <td>-1.549830e+07</td>\n",
       "    </tr>\n",
       "    <tr>\n",
       "      <th>2</th>\n",
       "      <td>1</td>\n",
       "      <td>8.0</td>\n",
       "      <td>1.608318</td>\n",
       "      <td>-1.421844e+07</td>\n",
       "    </tr>\n",
       "    <tr>\n",
       "      <th>3</th>\n",
       "      <td>1</td>\n",
       "      <td>7.0</td>\n",
       "      <td>1.608293</td>\n",
       "      <td>-1.293859e+07</td>\n",
       "    </tr>\n",
       "    <tr>\n",
       "      <th>4</th>\n",
       "      <td>1</td>\n",
       "      <td>6.0</td>\n",
       "      <td>1.608261</td>\n",
       "      <td>-1.165876e+07</td>\n",
       "    </tr>\n",
       "    <tr>\n",
       "      <th>5</th>\n",
       "      <td>1</td>\n",
       "      <td>5.0</td>\n",
       "      <td>1.608222</td>\n",
       "      <td>-1.037896e+07</td>\n",
       "    </tr>\n",
       "    <tr>\n",
       "      <th>6</th>\n",
       "      <td>1</td>\n",
       "      <td>4.0</td>\n",
       "      <td>1.608172</td>\n",
       "      <td>-9.099198e+06</td>\n",
       "    </tr>\n",
       "    <tr>\n",
       "      <th>7</th>\n",
       "      <td>1</td>\n",
       "      <td>3.0</td>\n",
       "      <td>1.608106</td>\n",
       "      <td>-7.819481e+06</td>\n",
       "    </tr>\n",
       "    <tr>\n",
       "      <th>8</th>\n",
       "      <td>1</td>\n",
       "      <td>2.0</td>\n",
       "      <td>1.608018</td>\n",
       "      <td>-6.539824e+06</td>\n",
       "    </tr>\n",
       "    <tr>\n",
       "      <th>9</th>\n",
       "      <td>1</td>\n",
       "      <td>1.0</td>\n",
       "      <td>1.607896</td>\n",
       "      <td>-5.260249e+06</td>\n",
       "    </tr>\n",
       "    <tr>\n",
       "      <th>10</th>\n",
       "      <td>1</td>\n",
       "      <td>0.0</td>\n",
       "      <td>1.607720</td>\n",
       "      <td>-3.980792e+06</td>\n",
       "    </tr>\n",
       "    <tr>\n",
       "      <th>11</th>\n",
       "      <td>1</td>\n",
       "      <td>-1.0</td>\n",
       "      <td>1.607453</td>\n",
       "      <td>-2.701507e+06</td>\n",
       "    </tr>\n",
       "    <tr>\n",
       "      <th>12</th>\n",
       "      <td>1</td>\n",
       "      <td>-2.0</td>\n",
       "      <td>1.607018</td>\n",
       "      <td>-1.422494e+06</td>\n",
       "    </tr>\n",
       "    <tr>\n",
       "      <th>13</th>\n",
       "      <td>1</td>\n",
       "      <td>-3.0</td>\n",
       "      <td>1.606231</td>\n",
       "      <td>-1.439497e+05</td>\n",
       "    </tr>\n",
       "    <tr>\n",
       "      <th>14</th>\n",
       "      <td>1</td>\n",
       "      <td>-4.0</td>\n",
       "      <td>1.604562</td>\n",
       "      <td>1.133677e+06</td>\n",
       "    </tr>\n",
       "    <tr>\n",
       "      <th>15</th>\n",
       "      <td>1</td>\n",
       "      <td>-5.0</td>\n",
       "      <td>1.599725</td>\n",
       "      <td>2.409025e+06</td>\n",
       "    </tr>\n",
       "    <tr>\n",
       "      <th>16</th>\n",
       "      <td>2</td>\n",
       "      <td>-6.0</td>\n",
       "      <td>-1.608261</td>\n",
       "      <td>-1.165876e+07</td>\n",
       "    </tr>\n",
       "  </tbody>\n",
       "</table>\n",
       "</div>"
      ],
      "text/plain": [
       "    configuration_type  mu0_Hext        Js  energy_density\n",
       "0                    1      10.0  1.608357   -1.677819e+07\n",
       "1                    1       9.0  1.608339   -1.549830e+07\n",
       "2                    1       8.0  1.608318   -1.421844e+07\n",
       "3                    1       7.0  1.608293   -1.293859e+07\n",
       "4                    1       6.0  1.608261   -1.165876e+07\n",
       "5                    1       5.0  1.608222   -1.037896e+07\n",
       "6                    1       4.0  1.608172   -9.099198e+06\n",
       "7                    1       3.0  1.608106   -7.819481e+06\n",
       "8                    1       2.0  1.608018   -6.539824e+06\n",
       "9                    1       1.0  1.607896   -5.260249e+06\n",
       "10                   1       0.0  1.607720   -3.980792e+06\n",
       "11                   1      -1.0  1.607453   -2.701507e+06\n",
       "12                   1      -2.0  1.607018   -1.422494e+06\n",
       "13                   1      -3.0  1.606231   -1.439497e+05\n",
       "14                   1      -4.0  1.604562    1.133677e+06\n",
       "15                   1      -5.0  1.599725    2.409025e+06\n",
       "16                   2      -6.0 -1.608261   -1.165876e+07"
      ]
     },
     "execution_count": 19,
     "metadata": {},
     "output_type": "execute_result"
    }
   ],
   "source": [
    "with open(\"example.dat\", \"w\") as f:\n",
    "    f.write(\"\"\"\n",
    "1 10.0 1.6083568305976572 -16778187.088808443\n",
    "1 9.0 1.6083393931987826 -15498304.121589921\n",
    "1 8.0 1.6083184361075116 -14218436.37373519\n",
    "1 7.0 1.608292941666901 -12938587.029585946\n",
    "1 6.0 1.6082614950059932 -11658760.230932372\n",
    "1 5.0 1.608222081883206 -10378961.467100028\n",
    "1 4.0 1.6081717550468129 -9099198.173237378\n",
    "1 3.0 1.6081060612831548 -7819480.6795090465\n",
    "1 2.0 1.6080180098704495 -6539823.778270881\n",
    "1 1.0 1.6078961072484168 -5260249.438047437\n",
    "1 0.0 1.6077203434898446 -3980791.785582987\n",
    "1 -1.0 1.6074532481818082 -2701506.9443550394\n",
    "1 -2.0 1.6070175560418265 -1422494.3948380197\n",
    "1 -3.0 1.6062307607212265 -143949.74970698575\n",
    "1 -4.0 1.604561953357357 1133677.3737576925\n",
    "1 -5.0 1.5997253356028722 2409024.642323177\n",
    "2 -6.0 -1.608261495186274 -11658760.230930354\n",
    "\"\"\")\n",
    "df = pd.read_csv(\"example.dat\", sep=\" \", names=[\"configuration_type\", \"mu0_Hext\", \"Js\", \"energy_density\"])\n",
    "df"
   ]
  },
  {
   "cell_type": "markdown",
   "id": "7c3d860a-cafe-449a-8b6b-e3960aaa5a25",
   "metadata": {},
   "source": [
    "To rewrite this file in the correct format, we can extract its entities by hand (converting to the right unit when necessary) and using `entities_to_csv`.\n",
    "When doing so, one has to use the following information:\n",
    "- Is it just a column of numbers (like `configuration_type` above)? Then you need to convert the `pandas.Series` to a NumPy array with the `to_numpy` method (see the cell below).\n",
    "- What is this column representing? Look for the right ontology label in EMMO or in the MaMMoS ontology. Use this value in the field `ontology_label`.\n",
    "- If this object is in the ontology, is the value expressed in a unit that is compatible with the ontology unit? For example, the `mu0_Hext` in this example is in Tesla but we want to use `ExternalMagneticField` which is expressed in Ampere per metre. So we will convert to the right unit first and then use it as `value`.\n",
    "- What unit is your data written is? This might be useful if you are working, for example, with `kA/m` instead of `A/m`."
   ]
  },
  {
   "cell_type": "code",
   "execution_count": 20,
   "id": "e364c368-f58d-45a8-a329-d16b3b0c497a",
   "metadata": {},
   "outputs": [],
   "source": [
    "configuration_type = df[\"configuration_type\"].to_numpy()\n",
    "H = me.Entity(\n",
    "    ontology_label=\"ExternalMagneticField\",\n",
    "    value=(df[\"mu0_Hext\"].to_numpy() * u.T).to(u.A / u.m, equivalencies=u.magnetic_flux_field()),\n",
    "    unit=u.A / u.m,\n",
    ")\n",
    "Js = me.Entity(\n",
    "    ontology_label=\"MagneticPolarisation\",\n",
    "    value=df[\"Js\"],\n",
    "    unit=u.T,\n",
    ")\n",
    "energy_density = me.Entity(ontology_label=\"EnergyDensity\", value=df[\"energy_density\"], unit=u.J / u.m**3)"
   ]
  },
  {
   "cell_type": "code",
   "execution_count": 21,
   "id": "49a54fbd-f495-44d8-b0cd-ac765eb0ddeb",
   "metadata": {},
   "outputs": [],
   "source": [
    "me.io.entities_to_csv(\"example.csv\", configuration_type=configuration_type, H=H, Js=Js, energy_density=energy_density)"
   ]
  },
  {
   "cell_type": "code",
   "execution_count": 22,
   "id": "f7ad9af4-a9c1-46be-acc4-7673edbf239f",
   "metadata": {},
   "outputs": [
    {
     "name": "stdout",
     "output_type": "stream",
     "text": [
      "#,ExternalMagneticField,MagneticPolarisation,EnergyDensity\n",
      "#,https://w3id.org/emmo/domain/magnetic_material#EMMO_da08f0d3-fe19-58bc-8fb6-ecc8992d5eb3,https://w3id.org/emmo#EMMO_74a096dd_cc83_4c7e_b704_0541620ff18d,https://w3id.org/emmo/domain/magnetic_material#EMMO_56258d3a-f2ee-554e-af99-499dd8620457\n",
      "#,A / m,T,J / m3\n",
      "configuration_type,H,Js,energy_density\n",
      "1,7957747.150262763,1.6083568305976572,-16778187.088808443\n",
      "1,7161972.435236487,1.6083393931987826,-15498304.12158992\n",
      "1,6366197.72021021,1.6083184361075116,-14218436.37373519\n",
      "1,5570423.005183934,1.608292941666901,-12938587.029585946\n",
      "1,4774648.290157658,1.6082614950059932,-11658760.230932372\n",
      "1,3978873.5751313814,1.608222081883206,-10378961.467100028\n",
      "1,3183098.860105105,1.6081717550468129,-9099198.173237378\n",
      "1,2387324.145078829,1.6081060612831548,-7819480.6795090465\n",
      "1,1591549.4300525526,1.6080180098704495,-6539823.778270881\n",
      "1,795774.7150262763,1.6078961072484168,-5260249.438047437\n",
      "1,0.0,1.6077203434898446,-3980791.785582987\n",
      "1,-795774.7150262763,1.6074532481818082,-2701506.9443550394\n",
      "1,-1591549.4300525526,1.6070175560418265,-1422494.3948380195\n",
      "1,-2387324.145078829,1.6062307607212265,-143949.74970698575\n",
      "1,-3183098.860105105,1.604561953357357,1133677.3737576923\n",
      "1,-3978873.5751313814,1.5997253356028722,2409024.642323177\n",
      "2,-4774648.290157658,-1.608261495186274,-11658760.230930354\n",
      "\n"
     ]
    }
   ],
   "source": [
    "print(open(\"example.csv\").read())  # noqa: SIM115"
   ]
  }
 ],
 "metadata": {
  "kernelspec": {
   "display_name": "Python 3 (ipykernel)",
   "language": "python",
   "name": "python3"
  },
  "language_info": {
   "codemirror_mode": {
    "name": "ipython",
    "version": 3
   },
   "file_extension": ".py",
   "mimetype": "text/x-python",
   "name": "python",
   "nbconvert_exporter": "python",
   "pygments_lexer": "ipython3",
   "version": "3.11.0"
  }
 },
 "nbformat": 4,
 "nbformat_minor": 5
}
