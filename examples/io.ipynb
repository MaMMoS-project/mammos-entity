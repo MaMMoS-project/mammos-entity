{
 "cells": [
  {
   "cell_type": "markdown",
   "id": "67f4c884-41ea-42fa-b645-8036440fa5c9",
   "metadata": {},
   "source": [
    "# `mammos_entity.io`: reading and writing entities"
   ]
  },
  {
   "cell_type": "code",
   "execution_count": 1,
   "id": "d6836737-77d8-484b-ae9e-d0734ded6006",
   "metadata": {},
   "outputs": [],
   "source": [
    "import mammos_entity as me\n",
    "import mammos_units as u"
   ]
  },
  {
   "cell_type": "markdown",
   "id": "33d3fe30-d45e-40c1-b08b-dbaa40da6520",
   "metadata": {},
   "source": [
    "## Supported file format\n",
    "\n",
    "`mammos_entity.io` can read and write csv files containing entity like objects (entities, quantities, or other array-like data) in tabluar format. For entities and quantities information about ontology and units are included as additional metadata. Details of the file format are explained in the [`mammos-entity.io` api reference](https://mammos-project.github.io/mammos/api/mammos_entity.io.html)"
   ]
  },
  {
   "attachments": {},
   "cell_type": "markdown",
   "id": "746f6f05-845a-48f1-abe2-7681c0eecfda",
   "metadata": {},
   "source": [
    "## MaMMoS CSV\n",
    "\n",
    "We create some artificial data to write to a csv file."
   ]
  },
  {
   "cell_type": "code",
   "execution_count": 2,
   "id": "cd1c55d1-3ddf-4c5f-9fac-de4e7a339a5a",
   "metadata": {},
   "outputs": [],
   "source": [
    "Ms = me.Ms([600, 650, 700], \"kA/m\")\n",
    "T = me.T([1, 2, 3])\n",
    "theta_angle = [0, 0.5, 0.7] * u.rad\n",
    "demag_factor = me.Entity(\"DemagnetizingFactor\", [1 / 3, 1 / 3, 1 / 3])\n",
    "comments = [\"Some comment\", \"Some other comment\", \"A third comment\"]"
   ]
  },
  {
   "cell_type": "markdown",
   "id": "4ff1cc71-aea9-4a53-be4c-a2beee0367e4",
   "metadata": {},
   "source": [
    "### Writing\n",
    "We can write them to a csv file as shown in the following cell. Names of the keyword arguments determine column names in the file."
   ]
  },
  {
   "cell_type": "code",
   "execution_count": 3,
   "id": "60d3cadf-d780-49e9-97df-3e9a28806803",
   "metadata": {},
   "outputs": [],
   "source": [
    "me.io.entities_to_csv(\"example.csv\", Ms=Ms, T=T, angle=theta_angle, demag_factor=demag_factor, comment=comments)"
   ]
  },
  {
   "cell_type": "markdown",
   "id": "51125d87-9b81-4ab1-8780-1ef2c1a6f344",
   "metadata": {},
   "source": [
    "This has produced the following file:"
   ]
  },
  {
   "cell_type": "code",
   "execution_count": 4,
   "id": "3e980ad9-ea3b-4eae-879d-c3c9a0fb07f0",
   "metadata": {},
   "outputs": [
    {
     "name": "stdout",
     "output_type": "stream",
     "text": [
      "#mammos csv v1\n",
      "#SpontaneousMagnetization,ThermodynamicTemperature,,DemagnetizingFactor,\n",
      "#https://w3id.org/emmo/domain/magnetic_material#EMMO_032731f8-874d-5efb-9c9d-6dafaa17ef25,https://w3id.org/emmo#EMMO_affe07e4_e9bc_4852_86c6_69e26182a17f,,https://w3id.org/emmo/domain/magnetic_material#EMMO_0f2b5cc9-d00a-5030-8448-99ba6b7dfd1e,\n",
      "#kA / m,K,rad,,\n",
      "Ms,T,angle,demag_factor,comment\n",
      "600.0,1.0,0.0,0.3333333333333333,Some comment\n",
      "650.0,2.0,0.5,0.3333333333333333,Some other comment\n",
      "700.0,3.0,0.7,0.3333333333333333,A third comment\n",
      "\n"
     ]
    }
   ],
   "source": [
    "print(open(\"example.csv\").read())  # noqa: SIM115"
   ]
  },
  {
   "cell_type": "markdown",
   "id": "07ac51d4-9f89-4c41-945b-2701e04e857b",
   "metadata": {},
   "source": [
    "### Reading\n",
    "We can read it back in and get a container object (called EntityCollection) containing all columns:"
   ]
  },
  {
   "cell_type": "code",
   "execution_count": 5,
   "id": "ab4a4963-37a3-4578-8a8e-14817582ebc7",
   "metadata": {},
   "outputs": [
    {
     "data": {
      "text/plain": [
       "EntityCollection(\n",
       "    Ms=Entity(ontology_label='SpontaneousMagnetization', value=array([600., 650., 700.]), unit='kA / m'),\n",
       "    T=Entity(ontology_label='ThermodynamicTemperature', value=array([1., 2., 3.]), unit='K'),\n",
       "    angle=<Quantity [0. , 0.5, 0.7] rad>,\n",
       "    demag_factor=Entity(ontology_label='DemagnetizingFactor', value=array([0.33333333, 0.33333333, 0.33333333])),\n",
       "    comment=array(['Some comment', 'Some other comment', 'A third comment'],\n",
       "      dtype=object),\n",
       ")"
      ]
     },
     "execution_count": 5,
     "metadata": {},
     "output_type": "execute_result"
    }
   ],
   "source": [
    "content = me.io.entities_from_csv(\"example.csv\")\n",
    "content"
   ]
  },
  {
   "cell_type": "markdown",
   "id": "265ba969-11e0-4a18-83d0-cfb9481fc720",
   "metadata": {},
   "source": [
    "The recommended way of accessing the data is by using the individual elements. This preserves the correct data type:"
   ]
  },
  {
   "cell_type": "code",
   "execution_count": 6,
   "id": "e2a554bd-019c-480f-aa73-0aaad7a85814",
   "metadata": {},
   "outputs": [
    {
     "data": {
      "text/html": [
       "<samp>SpontaneousMagnetization(value=[600.&nbsp;650.&nbsp;700.],&nbsp;unit=kA&nbsp;/&nbsp;m)</samp>"
      ],
      "text/plain": [
       "Entity(ontology_label='SpontaneousMagnetization', value=array([600., 650., 700.]), unit='kA / m')"
      ]
     },
     "execution_count": 6,
     "metadata": {},
     "output_type": "execute_result"
    }
   ],
   "source": [
    "content.Ms"
   ]
  },
  {
   "cell_type": "code",
   "execution_count": 7,
   "id": "832726e7-6ef6-4dc1-a10e-db5f276e9b13",
   "metadata": {},
   "outputs": [
    {
     "data": {
      "text/html": [
       "<samp>ThermodynamicTemperature(value=[1.&nbsp;2.&nbsp;3.],&nbsp;unit=K)</samp>"
      ],
      "text/plain": [
       "Entity(ontology_label='ThermodynamicTemperature', value=array([1., 2., 3.]), unit='K')"
      ]
     },
     "execution_count": 7,
     "metadata": {},
     "output_type": "execute_result"
    }
   ],
   "source": [
    "content.T"
   ]
  },
  {
   "cell_type": "code",
   "execution_count": 8,
   "id": "a351e990-c482-4257-902c-e59e914b2dda",
   "metadata": {},
   "outputs": [
    {
     "data": {
      "text/latex": [
       "$[0,~0.5,~0.7] \\; \\mathrm{rad}$"
      ],
      "text/plain": [
       "<Quantity [0. , 0.5, 0.7] rad>"
      ]
     },
     "execution_count": 8,
     "metadata": {},
     "output_type": "execute_result"
    }
   ],
   "source": [
    "content.angle"
   ]
  },
  {
   "cell_type": "code",
   "execution_count": 9,
   "id": "525ae2fa-2aaf-4e51-ba47-a064e75c685a",
   "metadata": {},
   "outputs": [
    {
     "data": {
      "text/html": [
       "<samp>DemagnetizingFactor(value=[0.33333333&nbsp;0.33333333&nbsp;0.33333333])</samp>"
      ],
      "text/plain": [
       "Entity(ontology_label='DemagnetizingFactor', value=array([0.33333333, 0.33333333, 0.33333333]))"
      ]
     },
     "execution_count": 9,
     "metadata": {},
     "output_type": "execute_result"
    }
   ],
   "source": [
    "content.demag_factor"
   ]
  },
  {
   "cell_type": "code",
   "execution_count": 10,
   "id": "2ac4ce79-5cd0-4686-9cfa-bc672feb052c",
   "metadata": {},
   "outputs": [
    {
     "data": {
      "text/plain": [
       "array(['Some comment', 'Some other comment', 'A third comment'],\n",
       "      dtype=object)"
      ]
     },
     "execution_count": 10,
     "metadata": {},
     "output_type": "execute_result"
    }
   ],
   "source": [
    "content.comment"
   ]
  },
  {
   "cell_type": "markdown",
   "id": "a743204c-9a90-4ef3-9b93-d0605b1ff4dc",
   "metadata": {},
   "source": [
    "We can also get a `pandas` dataframe of the data we have read. This is designed as a convenience functions but due to limitation of `pandas` we loose ontology information. This is why we recommend using the individual elements directly where possible. The columns names consist of short name and units (where columns have a unit):"
   ]
  },
  {
   "cell_type": "code",
   "execution_count": 11,
   "id": "ba862c9b-e4c9-45ba-b7db-ecdde7cb7577",
   "metadata": {},
   "outputs": [
    {
     "data": {
      "text/html": [
       "<div>\n",
       "<style scoped>\n",
       "    .dataframe tbody tr th:only-of-type {\n",
       "        vertical-align: middle;\n",
       "    }\n",
       "\n",
       "    .dataframe tbody tr th {\n",
       "        vertical-align: top;\n",
       "    }\n",
       "\n",
       "    .dataframe thead th {\n",
       "        text-align: right;\n",
       "    }\n",
       "</style>\n",
       "<table border=\"1\" class=\"dataframe\">\n",
       "  <thead>\n",
       "    <tr style=\"text-align: right;\">\n",
       "      <th></th>\n",
       "      <th>Ms (kA / m)</th>\n",
       "      <th>T (K)</th>\n",
       "      <th>angle (rad)</th>\n",
       "      <th>demag_factor</th>\n",
       "      <th>comment</th>\n",
       "    </tr>\n",
       "  </thead>\n",
       "  <tbody>\n",
       "    <tr>\n",
       "      <th>0</th>\n",
       "      <td>600.0</td>\n",
       "      <td>1.0</td>\n",
       "      <td>0.0</td>\n",
       "      <td>0.333333</td>\n",
       "      <td>Some comment</td>\n",
       "    </tr>\n",
       "    <tr>\n",
       "      <th>1</th>\n",
       "      <td>650.0</td>\n",
       "      <td>2.0</td>\n",
       "      <td>0.5</td>\n",
       "      <td>0.333333</td>\n",
       "      <td>Some other comment</td>\n",
       "    </tr>\n",
       "    <tr>\n",
       "      <th>2</th>\n",
       "      <td>700.0</td>\n",
       "      <td>3.0</td>\n",
       "      <td>0.7</td>\n",
       "      <td>0.333333</td>\n",
       "      <td>A third comment</td>\n",
       "    </tr>\n",
       "  </tbody>\n",
       "</table>\n",
       "</div>"
      ],
      "text/plain": [
       "   Ms (kA / m)  T (K)  angle (rad)  demag_factor             comment\n",
       "0        600.0    1.0          0.0      0.333333        Some comment\n",
       "1        650.0    2.0          0.5      0.333333  Some other comment\n",
       "2        700.0    3.0          0.7      0.333333     A third comment"
      ]
     },
     "execution_count": 11,
     "metadata": {},
     "output_type": "execute_result"
    }
   ],
   "source": [
    "content.to_dataframe()"
   ]
  },
  {
   "cell_type": "markdown",
   "id": "d2154da5-d8b3-4867-b364-bb4086962b43",
   "metadata": {},
   "source": [
    "We can also get a dataframe without units in the column names:"
   ]
  },
  {
   "cell_type": "code",
   "execution_count": 12,
   "id": "57221cde-a7dc-4dc6-ae74-5c65301771e4",
   "metadata": {},
   "outputs": [
    {
     "data": {
      "text/html": [
       "<div>\n",
       "<style scoped>\n",
       "    .dataframe tbody tr th:only-of-type {\n",
       "        vertical-align: middle;\n",
       "    }\n",
       "\n",
       "    .dataframe tbody tr th {\n",
       "        vertical-align: top;\n",
       "    }\n",
       "\n",
       "    .dataframe thead th {\n",
       "        text-align: right;\n",
       "    }\n",
       "</style>\n",
       "<table border=\"1\" class=\"dataframe\">\n",
       "  <thead>\n",
       "    <tr style=\"text-align: right;\">\n",
       "      <th></th>\n",
       "      <th>Ms</th>\n",
       "      <th>T</th>\n",
       "      <th>angle</th>\n",
       "      <th>demag_factor</th>\n",
       "      <th>comment</th>\n",
       "    </tr>\n",
       "  </thead>\n",
       "  <tbody>\n",
       "    <tr>\n",
       "      <th>0</th>\n",
       "      <td>600.0</td>\n",
       "      <td>1.0</td>\n",
       "      <td>0.0</td>\n",
       "      <td>0.333333</td>\n",
       "      <td>Some comment</td>\n",
       "    </tr>\n",
       "    <tr>\n",
       "      <th>1</th>\n",
       "      <td>650.0</td>\n",
       "      <td>2.0</td>\n",
       "      <td>0.5</td>\n",
       "      <td>0.333333</td>\n",
       "      <td>Some other comment</td>\n",
       "    </tr>\n",
       "    <tr>\n",
       "      <th>2</th>\n",
       "      <td>700.0</td>\n",
       "      <td>3.0</td>\n",
       "      <td>0.7</td>\n",
       "      <td>0.333333</td>\n",
       "      <td>A third comment</td>\n",
       "    </tr>\n",
       "  </tbody>\n",
       "</table>\n",
       "</div>"
      ],
      "text/plain": [
       "      Ms    T  angle  demag_factor             comment\n",
       "0  600.0  1.0    0.0      0.333333        Some comment\n",
       "1  650.0  2.0    0.5      0.333333  Some other comment\n",
       "2  700.0  3.0    0.7      0.333333     A third comment"
      ]
     },
     "execution_count": 12,
     "metadata": {},
     "output_type": "execute_result"
    }
   ],
   "source": [
    "content.to_dataframe(include_units=False)"
   ]
  },
  {
   "cell_type": "markdown",
   "id": "04130d1a-72eb-4ec1-8959-2e9f66f3e506",
   "metadata": {},
   "source": [
    "### Reading with `pandas`\n",
    "If we only need the numerical data but not the entity information, we can also read the csv file with pandas:"
   ]
  },
  {
   "cell_type": "code",
   "execution_count": 13,
   "id": "5ef931e0-1f90-4920-92ee-ec37a1c76577",
   "metadata": {},
   "outputs": [
    {
     "data": {
      "text/html": [
       "<div>\n",
       "<style scoped>\n",
       "    .dataframe tbody tr th:only-of-type {\n",
       "        vertical-align: middle;\n",
       "    }\n",
       "\n",
       "    .dataframe tbody tr th {\n",
       "        vertical-align: top;\n",
       "    }\n",
       "\n",
       "    .dataframe thead th {\n",
       "        text-align: right;\n",
       "    }\n",
       "</style>\n",
       "<table border=\"1\" class=\"dataframe\">\n",
       "  <thead>\n",
       "    <tr style=\"text-align: right;\">\n",
       "      <th></th>\n",
       "      <th>Ms</th>\n",
       "      <th>T</th>\n",
       "      <th>angle</th>\n",
       "      <th>demag_factor</th>\n",
       "      <th>comment</th>\n",
       "    </tr>\n",
       "  </thead>\n",
       "  <tbody>\n",
       "    <tr>\n",
       "      <th>0</th>\n",
       "      <td>600.0</td>\n",
       "      <td>1.0</td>\n",
       "      <td>0.0</td>\n",
       "      <td>0.333333</td>\n",
       "      <td>Some comment</td>\n",
       "    </tr>\n",
       "    <tr>\n",
       "      <th>1</th>\n",
       "      <td>650.0</td>\n",
       "      <td>2.0</td>\n",
       "      <td>0.5</td>\n",
       "      <td>0.333333</td>\n",
       "      <td>Some other comment</td>\n",
       "    </tr>\n",
       "    <tr>\n",
       "      <th>2</th>\n",
       "      <td>700.0</td>\n",
       "      <td>3.0</td>\n",
       "      <td>0.7</td>\n",
       "      <td>0.333333</td>\n",
       "      <td>A third comment</td>\n",
       "    </tr>\n",
       "  </tbody>\n",
       "</table>\n",
       "</div>"
      ],
      "text/plain": [
       "      Ms    T  angle  demag_factor             comment\n",
       "0  600.0  1.0    0.0      0.333333        Some comment\n",
       "1  650.0  2.0    0.5      0.333333  Some other comment\n",
       "2  700.0  3.0    0.7      0.333333     A third comment"
      ]
     },
     "execution_count": 13,
     "metadata": {},
     "output_type": "execute_result"
    }
   ],
   "source": [
    "import pandas as pd\n",
    "\n",
    "pd.read_csv(\"example.csv\", comment=\"#\")"
   ]
  },
  {
   "cell_type": "markdown",
   "id": "804f7c5a-7a2e-4b3b-b4a1-be97e4f83aa4",
   "metadata": {},
   "source": [
    "### Check that data has not changed\n",
    "We can compare with the original data:"
   ]
  },
  {
   "cell_type": "code",
   "execution_count": 14,
   "id": "5e38ad5a-7186-4f3b-8acd-d7486a900dc8",
   "metadata": {},
   "outputs": [
    {
     "data": {
      "text/plain": [
       "True"
      ]
     },
     "execution_count": 14,
     "metadata": {},
     "output_type": "execute_result"
    }
   ],
   "source": [
    "Ms == content.Ms"
   ]
  },
  {
   "cell_type": "code",
   "execution_count": 15,
   "id": "db7d8147-f50a-4ade-82d1-d7143c077141",
   "metadata": {},
   "outputs": [
    {
     "data": {
      "text/plain": [
       "True"
      ]
     },
     "execution_count": 15,
     "metadata": {},
     "output_type": "execute_result"
    }
   ],
   "source": [
    "T == content.T"
   ]
  },
  {
   "cell_type": "code",
   "execution_count": 16,
   "id": "3d42a6d1-f51a-4949-b713-de3bc08472ef",
   "metadata": {},
   "outputs": [
    {
     "data": {
      "text/plain": [
       "array([ True,  True,  True])"
      ]
     },
     "execution_count": 16,
     "metadata": {},
     "output_type": "execute_result"
    }
   ],
   "source": [
    "theta_angle == content.angle"
   ]
  },
  {
   "cell_type": "code",
   "execution_count": 17,
   "id": "f3a81c79-29a6-4448-9124-b89c73cb4dc9",
   "metadata": {},
   "outputs": [
    {
     "data": {
      "text/plain": [
       "True"
      ]
     },
     "execution_count": 17,
     "metadata": {},
     "output_type": "execute_result"
    }
   ],
   "source": [
    "demag_factor == content.demag_factor"
   ]
  },
  {
   "cell_type": "code",
   "execution_count": 18,
   "id": "eef8a760-2060-47ff-a823-b49b7d5df6df",
   "metadata": {},
   "outputs": [
    {
     "data": {
      "text/plain": [
       "array([ True,  True,  True])"
      ]
     },
     "execution_count": 18,
     "metadata": {},
     "output_type": "execute_result"
    }
   ],
   "source": [
    "comments == content.comment"
   ]
  }
 ],
 "metadata": {
  "kernelspec": {
   "display_name": "Python 3 (ipykernel)",
   "language": "python",
   "name": "python3"
  },
  "language_info": {
   "codemirror_mode": {
    "name": "ipython",
    "version": 3
   },
   "file_extension": ".py",
   "mimetype": "text/x-python",
   "name": "python",
   "nbconvert_exporter": "python",
   "pygments_lexer": "ipython3",
   "version": "3.11.13"
  }
 },
 "nbformat": 4,
 "nbformat_minor": 5
}
